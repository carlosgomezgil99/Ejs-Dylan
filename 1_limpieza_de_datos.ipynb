{
 "cells": [
  {
   "cell_type": "markdown",
   "metadata": {},
   "source": [
    "![Nuclio logo](https://nuclio.school/wp-content/uploads/2018/12/nucleoDS-newBlack.png)\n",
    "\n",
    "# Limpieza de datos para crear gráficos descriptivos y modelo de ML\n",
    "\n",
    "Nos dan un dataset con información relativa da distintas películas y el número de likes que han recibido en Facebook y Twitter. Nos piden:\n",
    "\n",
    "1. Preparar el dataset para crear un modelo de ML que nos permita predecir el número de likes a partir de las características de las películas.\n",
    "2. Además del modelo, necesitaremos presentar algunos gráficos a nuestros stakeholders. Es necesario que la data este preparada para ello.\n",
    "3. Identificar problemas graves en la data y comunicarlos lo antes posible.\n",
    "4. Adicionalmente, nuestro stakeholder tiene \"curiosidad\" por algunas cifras:\n",
    "    - Actores más repetidos en el dataset\n",
    "    - Géneros de películas más comunes\n",
    "    - Relación entre presupuesto y recaudación\n"
   ]
  },
  {
   "cell_type": "code",
   "execution_count": 1,
   "metadata": {},
   "outputs": [],
   "source": [
    "import pandas as pd\n",
    "import numpy as np"
   ]
  },
  {
   "cell_type": "markdown",
   "metadata": {},
   "source": [
    "## Leer datos"
   ]
  },
  {
   "cell_type": "code",
   "execution_count": 2,
   "metadata": {},
   "outputs": [],
   "source": [
    "df_imdb=pd.read_csv('./data/imdb_clase.csv', sep=';',index_col=0)"
   ]
  },
  {
   "cell_type": "code",
   "execution_count": 3,
   "metadata": {},
   "outputs": [
    {
     "data": {
      "text/html": [
       "<div>\n",
       "<style scoped>\n",
       "    .dataframe tbody tr th:only-of-type {\n",
       "        vertical-align: middle;\n",
       "    }\n",
       "\n",
       "    .dataframe tbody tr th {\n",
       "        vertical-align: top;\n",
       "    }\n",
       "\n",
       "    .dataframe thead th {\n",
       "        text-align: right;\n",
       "    }\n",
       "</style>\n",
       "<table border=\"1\" class=\"dataframe\">\n",
       "  <thead>\n",
       "    <tr style=\"text-align: right;\">\n",
       "      <th></th>\n",
       "      <th>color</th>\n",
       "      <th>director_name</th>\n",
       "      <th>duration</th>\n",
       "      <th>gross</th>\n",
       "      <th>genres</th>\n",
       "      <th>movie_title</th>\n",
       "      <th>title_year</th>\n",
       "      <th>language</th>\n",
       "      <th>country</th>\n",
       "      <th>budget</th>\n",
       "      <th>imdb_score</th>\n",
       "      <th>actors</th>\n",
       "      <th>movie_facebook_likes</th>\n",
       "      <th>movie_twitter_likes</th>\n",
       "    </tr>\n",
       "  </thead>\n",
       "  <tbody>\n",
       "    <tr>\n",
       "      <th>0</th>\n",
       "      <td>Color</td>\n",
       "      <td>Martin Scorsese</td>\n",
       "      <td>240</td>\n",
       "      <td>$116,866,727.00</td>\n",
       "      <td>Biography|Comedy|Crime|Drama</td>\n",
       "      <td>the wolf of wall street</td>\n",
       "      <td>2013</td>\n",
       "      <td>English</td>\n",
       "      <td>USA</td>\n",
       "      <td>USD 100,000,000.00</td>\n",
       "      <td>8.2</td>\n",
       "      <td>Leonardo DiCaprio,Matthew McConaughey,Jon Favreau</td>\n",
       "      <td>138000</td>\n",
       "      <td>1000</td>\n",
       "    </tr>\n",
       "    <tr>\n",
       "      <th>1</th>\n",
       "      <td>Color</td>\n",
       "      <td>Shane Black</td>\n",
       "      <td>195</td>\n",
       "      <td>$408,992,272.00</td>\n",
       "      <td>Action|Adventure|Sci-Fi</td>\n",
       "      <td>iron man 3</td>\n",
       "      <td>2013</td>\n",
       "      <td>English</td>\n",
       "      <td>USA</td>\n",
       "      <td>USD 200,000,000.00</td>\n",
       "      <td>7.2</td>\n",
       "      <td>Robert Downey Jr.,Jon Favreau,Don Cheadle</td>\n",
       "      <td>95000</td>\n",
       "      <td>1000</td>\n",
       "    </tr>\n",
       "    <tr>\n",
       "      <th>2</th>\n",
       "      <td>color</td>\n",
       "      <td>Quentin Tarantino</td>\n",
       "      <td>187</td>\n",
       "      <td>$54,116,191.00</td>\n",
       "      <td>Crime|Drama|Mystery|Thriller|Western</td>\n",
       "      <td>the hateful eight</td>\n",
       "      <td>2015</td>\n",
       "      <td>English</td>\n",
       "      <td>USA</td>\n",
       "      <td>USD 44,000,000.00</td>\n",
       "      <td>7.9</td>\n",
       "      <td>Craig Stark,Jennifer Jason Leigh,Zoë Bell</td>\n",
       "      <td>114000</td>\n",
       "      <td>1000</td>\n",
       "    </tr>\n",
       "    <tr>\n",
       "      <th>3</th>\n",
       "      <td>Color</td>\n",
       "      <td>Kenneth Lonergan</td>\n",
       "      <td>186</td>\n",
       "      <td>$46,495.00</td>\n",
       "      <td>Drama</td>\n",
       "      <td>margaret</td>\n",
       "      <td>2011</td>\n",
       "      <td>English</td>\n",
       "      <td>usa</td>\n",
       "      <td>USD 14,000,000.00</td>\n",
       "      <td>6.5</td>\n",
       "      <td>Matt Damon,Kieran Culkin,John Gallagher Jr.</td>\n",
       "      <td>0</td>\n",
       "      <td>1000</td>\n",
       "    </tr>\n",
       "    <tr>\n",
       "      <th>4</th>\n",
       "      <td>Color</td>\n",
       "      <td>Peter Jackson</td>\n",
       "      <td>186</td>\n",
       "      <td>$258,355,354.00</td>\n",
       "      <td>Adventure|Fantasy</td>\n",
       "      <td>the hobbit: the desolation of smaug</td>\n",
       "      <td>2013</td>\n",
       "      <td>English</td>\n",
       "      <td>USA</td>\n",
       "      <td>USD 225,000,000.00</td>\n",
       "      <td>7.9</td>\n",
       "      <td>Aidan Turner,Adam Brown,James Nesbitt</td>\n",
       "      <td>83000</td>\n",
       "      <td>1000</td>\n",
       "    </tr>\n",
       "    <tr>\n",
       "      <th>...</th>\n",
       "      <td>...</td>\n",
       "      <td>...</td>\n",
       "      <td>...</td>\n",
       "      <td>...</td>\n",
       "      <td>...</td>\n",
       "      <td>...</td>\n",
       "      <td>...</td>\n",
       "      <td>...</td>\n",
       "      <td>...</td>\n",
       "      <td>...</td>\n",
       "      <td>...</td>\n",
       "      <td>...</td>\n",
       "      <td>...</td>\n",
       "      <td>...</td>\n",
       "    </tr>\n",
       "    <tr>\n",
       "      <th>94</th>\n",
       "      <td>Color</td>\n",
       "      <td>Steve McQueen</td>\n",
       "      <td>134</td>\n",
       "      <td>$56,667,870.00</td>\n",
       "      <td>Biography|Drama|History</td>\n",
       "      <td>12 years a slave</td>\n",
       "      <td>2013</td>\n",
       "      <td>English</td>\n",
       "      <td>USA</td>\n",
       "      <td>USD 20,000,000.00</td>\n",
       "      <td>8.1</td>\n",
       "      <td>Quvenzhané Wallis,Scoot McNairy,Taran Killam</td>\n",
       "      <td>83000</td>\n",
       "      <td>1000</td>\n",
       "    </tr>\n",
       "    <tr>\n",
       "      <th>95</th>\n",
       "      <td>Color</td>\n",
       "      <td>Richard J. Lewis</td>\n",
       "      <td>134</td>\n",
       "      <td>$7,501,404.00</td>\n",
       "      <td>Comedy|Drama</td>\n",
       "      <td>barney's version</td>\n",
       "      <td>2010</td>\n",
       "      <td>English</td>\n",
       "      <td>Canada</td>\n",
       "      <td>USD nan</td>\n",
       "      <td>7.3</td>\n",
       "      <td>Mark Addy,Atom Egoyan,Paul Gross</td>\n",
       "      <td>0</td>\n",
       "      <td>1000</td>\n",
       "    </tr>\n",
       "    <tr>\n",
       "      <th>96</th>\n",
       "      <td>Color</td>\n",
       "      <td>Paul Greengrass</td>\n",
       "      <td>134</td>\n",
       "      <td>$107,100,855.00</td>\n",
       "      <td>Biography|Drama|Thriller</td>\n",
       "      <td>captain phillips</td>\n",
       "      <td>2013</td>\n",
       "      <td>English</td>\n",
       "      <td>USA</td>\n",
       "      <td>USD 55,000,000.00</td>\n",
       "      <td>7.9</td>\n",
       "      <td>Tom Hanks,Chris Mulkey,Michael Chernus</td>\n",
       "      <td>65000</td>\n",
       "      <td>1000</td>\n",
       "    </tr>\n",
       "    <tr>\n",
       "      <th>97</th>\n",
       "      <td>Color</td>\n",
       "      <td>David Ayer</td>\n",
       "      <td>134</td>\n",
       "      <td>$85,707,116.00</td>\n",
       "      <td>Action|Drama|War</td>\n",
       "      <td>fury</td>\n",
       "      <td>2014</td>\n",
       "      <td>English</td>\n",
       "      <td>USA</td>\n",
       "      <td>USD 68,000,000.00</td>\n",
       "      <td>7.6</td>\n",
       "      <td>Brad Pitt,Logan Lerman,Jim Parrack</td>\n",
       "      <td>82000</td>\n",
       "      <td>1000</td>\n",
       "    </tr>\n",
       "    <tr>\n",
       "      <th>98</th>\n",
       "      <td>Color</td>\n",
       "      <td>Clint Eastwood</td>\n",
       "      <td>5</td>\n",
       "      <td>$47,034,272.00</td>\n",
       "      <td>Biography|Drama|Music|Musical</td>\n",
       "      <td>jersey boys</td>\n",
       "      <td>2014</td>\n",
       "      <td>English</td>\n",
       "      <td>USA</td>\n",
       "      <td>USD 40,000,000.00</td>\n",
       "      <td>6.9</td>\n",
       "      <td>Johnny Cannizzaro,Steve Schirripa,Scott Vance</td>\n",
       "      <td>16000</td>\n",
       "      <td>1000</td>\n",
       "    </tr>\n",
       "  </tbody>\n",
       "</table>\n",
       "<p>99 rows × 14 columns</p>\n",
       "</div>"
      ],
      "text/plain": [
       "     color      director_name  duration            gross  \\\n",
       "0    Color    Martin Scorsese       240  $116,866,727.00   \n",
       "1    Color        Shane Black       195  $408,992,272.00   \n",
       "2   color   Quentin Tarantino       187   $54,116,191.00   \n",
       "3    Color   Kenneth Lonergan       186       $46,495.00   \n",
       "4    Color      Peter Jackson       186  $258,355,354.00   \n",
       "..     ...                ...       ...              ...   \n",
       "94   Color      Steve McQueen       134   $56,667,870.00   \n",
       "95   Color   Richard J. Lewis       134    $7,501,404.00   \n",
       "96   Color    Paul Greengrass       134  $107,100,855.00   \n",
       "97   Color         David Ayer       134   $85,707,116.00   \n",
       "98   Color     Clint Eastwood         5   $47,034,272.00   \n",
       "\n",
       "                                  genres                          movie_title  \\\n",
       "0           Biography|Comedy|Crime|Drama              the wolf of wall street   \n",
       "1                Action|Adventure|Sci-Fi                           iron man 3   \n",
       "2   Crime|Drama|Mystery|Thriller|Western                    the hateful eight   \n",
       "3                                  Drama                             margaret   \n",
       "4                      Adventure|Fantasy  the hobbit: the desolation of smaug   \n",
       "..                                   ...                                  ...   \n",
       "94               Biography|Drama|History                     12 years a slave   \n",
       "95                          Comedy|Drama                     barney's version   \n",
       "96              Biography|Drama|Thriller                     captain phillips   \n",
       "97                      Action|Drama|War                                 fury   \n",
       "98         Biography|Drama|Music|Musical                          jersey boys   \n",
       "\n",
       "    title_year language country              budget  imdb_score  \\\n",
       "0         2013  English     USA  USD 100,000,000.00         8.2   \n",
       "1         2013  English     USA  USD 200,000,000.00         7.2   \n",
       "2         2015  English     USA   USD 44,000,000.00         7.9   \n",
       "3         2011  English     usa   USD 14,000,000.00         6.5   \n",
       "4         2013  English     USA  USD 225,000,000.00         7.9   \n",
       "..         ...      ...     ...                 ...         ...   \n",
       "94        2013  English     USA   USD 20,000,000.00         8.1   \n",
       "95        2010  English  Canada             USD nan         7.3   \n",
       "96        2013  English     USA   USD 55,000,000.00         7.9   \n",
       "97        2014  English     USA   USD 68,000,000.00         7.6   \n",
       "98        2014  English     USA   USD 40,000,000.00         6.9   \n",
       "\n",
       "                                               actors  movie_facebook_likes  \\\n",
       "0   Leonardo DiCaprio,Matthew McConaughey,Jon Favreau                138000   \n",
       "1           Robert Downey Jr.,Jon Favreau,Don Cheadle                 95000   \n",
       "2           Craig Stark,Jennifer Jason Leigh,Zoë Bell                114000   \n",
       "3         Matt Damon,Kieran Culkin,John Gallagher Jr.                     0   \n",
       "4               Aidan Turner,Adam Brown,James Nesbitt                 83000   \n",
       "..                                                ...                   ...   \n",
       "94       Quvenzhané Wallis,Scoot McNairy,Taran Killam                 83000   \n",
       "95                   Mark Addy,Atom Egoyan,Paul Gross                     0   \n",
       "96             Tom Hanks,Chris Mulkey,Michael Chernus                 65000   \n",
       "97                 Brad Pitt,Logan Lerman,Jim Parrack                 82000   \n",
       "98      Johnny Cannizzaro,Steve Schirripa,Scott Vance                 16000   \n",
       "\n",
       "    movie_twitter_likes  \n",
       "0                  1000  \n",
       "1                  1000  \n",
       "2                  1000  \n",
       "3                  1000  \n",
       "4                  1000  \n",
       "..                  ...  \n",
       "94                 1000  \n",
       "95                 1000  \n",
       "96                 1000  \n",
       "97                 1000  \n",
       "98                 1000  \n",
       "\n",
       "[99 rows x 14 columns]"
      ]
     },
     "execution_count": 3,
     "metadata": {},
     "output_type": "execute_result"
    }
   ],
   "source": [
    "df_imdb"
   ]
  },
  {
   "cell_type": "markdown",
   "metadata": {},
   "source": [
    "## Limpieza de datos"
   ]
  },
  {
   "cell_type": "markdown",
   "metadata": {},
   "source": [
    "### Revisiones generales: `.columns`, `.index`, `.shape`"
   ]
  },
  {
   "cell_type": "code",
   "execution_count": 4,
   "metadata": {},
   "outputs": [
    {
     "data": {
      "text/plain": [
       "(Index(['color', 'director_name', 'duration', 'gross', 'genres', 'movie_title',\n",
       "        'title_year', 'language', 'country', 'budget', 'imdb_score', 'actors',\n",
       "        'movie_facebook_likes', 'movie_twitter_likes'],\n",
       "       dtype='object'),\n",
       " Int64Index([ 0,  1,  2,  3,  4,  5,  6,  7,  8,  9, 10, 11, 12, 13, 14, 15, 16,\n",
       "             17, 18, 19, 20, 21, 22, 23, 24, 25, 26, 27, 28, 29, 30, 31, 32, 33,\n",
       "             34, 35, 36, 37, 38, 39, 40, 41, 42, 43, 44, 45, 46, 47, 48, 49, 50,\n",
       "             51, 52, 53, 54, 55, 56, 57, 58, 59, 60, 61, 62, 63, 64, 65, 66, 67,\n",
       "             68, 69, 70, 71, 72, 73, 74, 75, 76, 77, 78, 79, 80, 81, 82, 83, 84,\n",
       "             85, 86, 87, 88, 89, 90, 91, 92, 93, 94, 95, 96, 97, 98],\n",
       "            dtype='int64'),\n",
       " (99, 14))"
      ]
     },
     "execution_count": 4,
     "metadata": {},
     "output_type": "execute_result"
    }
   ],
   "source": [
    "df_imdb.columns, df_imdb.index,df_imdb.shape"
   ]
  },
  {
   "cell_type": "markdown",
   "metadata": {},
   "source": [
    "### Ver algunas observaciones: `.head()`, `.tail()`, `.sample()`"
   ]
  },
  {
   "cell_type": "code",
   "execution_count": 5,
   "metadata": {},
   "outputs": [
    {
     "data": {
      "text/plain": [
       "(    color      director_name  duration            gross  \\\n",
       " 0   Color    Martin Scorsese       240  $116,866,727.00   \n",
       " 1   Color        Shane Black       195  $408,992,272.00   \n",
       " 2  color   Quentin Tarantino       187   $54,116,191.00   \n",
       " 3   Color   Kenneth Lonergan       186       $46,495.00   \n",
       " 4   Color      Peter Jackson       186  $258,355,354.00   \n",
       " \n",
       "                                  genres                          movie_title  \\\n",
       " 0          Biography|Comedy|Crime|Drama              the wolf of wall street   \n",
       " 1               Action|Adventure|Sci-Fi                           iron man 3   \n",
       " 2  Crime|Drama|Mystery|Thriller|Western                    the hateful eight   \n",
       " 3                                 Drama                             margaret   \n",
       " 4                     Adventure|Fantasy  the hobbit: the desolation of smaug   \n",
       " \n",
       "    title_year language country              budget  imdb_score  \\\n",
       " 0        2013  English     USA  USD 100,000,000.00         8.2   \n",
       " 1        2013  English     USA  USD 200,000,000.00         7.2   \n",
       " 2        2015  English     USA   USD 44,000,000.00         7.9   \n",
       " 3        2011  English     usa   USD 14,000,000.00         6.5   \n",
       " 4        2013  English     USA  USD 225,000,000.00         7.9   \n",
       " \n",
       "                                               actors  movie_facebook_likes  \\\n",
       " 0  Leonardo DiCaprio,Matthew McConaughey,Jon Favreau                138000   \n",
       " 1          Robert Downey Jr.,Jon Favreau,Don Cheadle                 95000   \n",
       " 2          Craig Stark,Jennifer Jason Leigh,Zoë Bell                114000   \n",
       " 3        Matt Damon,Kieran Culkin,John Gallagher Jr.                     0   \n",
       " 4              Aidan Turner,Adam Brown,James Nesbitt                 83000   \n",
       " \n",
       "    movie_twitter_likes  \n",
       " 0                 1000  \n",
       " 1                 1000  \n",
       " 2                 1000  \n",
       " 3                 1000  \n",
       " 4                 1000  ,\n",
       "     color     director_name  duration            gross  \\\n",
       " 94  Color     Steve McQueen       134   $56,667,870.00   \n",
       " 95  Color  Richard J. Lewis       134    $7,501,404.00   \n",
       " 96  Color   Paul Greengrass       134  $107,100,855.00   \n",
       " 97  Color        David Ayer       134   $85,707,116.00   \n",
       " 98  Color    Clint Eastwood         5   $47,034,272.00   \n",
       " \n",
       "                            genres       movie_title  title_year language  \\\n",
       " 94        Biography|Drama|History  12 years a slave        2013  English   \n",
       " 95                   Comedy|Drama  barney's version        2010  English   \n",
       " 96       Biography|Drama|Thriller  captain phillips        2013  English   \n",
       " 97               Action|Drama|War              fury        2014  English   \n",
       " 98  Biography|Drama|Music|Musical       jersey boys        2014  English   \n",
       " \n",
       "    country             budget  imdb_score  \\\n",
       " 94     USA  USD 20,000,000.00         8.1   \n",
       " 95  Canada            USD nan         7.3   \n",
       " 96     USA  USD 55,000,000.00         7.9   \n",
       " 97     USA  USD 68,000,000.00         7.6   \n",
       " 98     USA  USD 40,000,000.00         6.9   \n",
       " \n",
       "                                            actors  movie_facebook_likes  \\\n",
       " 94   Quvenzhané Wallis,Scoot McNairy,Taran Killam                 83000   \n",
       " 95               Mark Addy,Atom Egoyan,Paul Gross                     0   \n",
       " 96         Tom Hanks,Chris Mulkey,Michael Chernus                 65000   \n",
       " 97             Brad Pitt,Logan Lerman,Jim Parrack                 82000   \n",
       " 98  Johnny Cannizzaro,Steve Schirripa,Scott Vance                 16000   \n",
       " \n",
       "     movie_twitter_likes  \n",
       " 94                 1000  \n",
       " 95                 1000  \n",
       " 96                 1000  \n",
       " 97                 1000  \n",
       " 98                 1000  ,\n",
       "     color        director_name  duration            gross  \\\n",
       " 86  Color  Angelina Jolie Pitt       137  $115,603,980.00   \n",
       " \n",
       "                        genres movie_title  title_year language country  \\\n",
       " 86  Biography|Drama|Sport|War    unbroken        2014  English     USA   \n",
       " \n",
       "                budget  imdb_score                                     actors  \\\n",
       " 86  USD 65,000,000.00         7.2  Finn Wittrock,Jack O'Connell,Alex Russell   \n",
       " \n",
       "     movie_facebook_likes  movie_twitter_likes  \n",
       " 86                 35000                 1000  )"
      ]
     },
     "execution_count": 5,
     "metadata": {},
     "output_type": "execute_result"
    }
   ],
   "source": [
    "df_imdb.head(),df_imdb.tail(),df_imdb.sample()"
   ]
  },
  {
   "cell_type": "markdown",
   "metadata": {},
   "source": [
    "### Describir dataset: `info()`, `describe()`"
   ]
  },
  {
   "cell_type": "code",
   "execution_count": 6,
   "metadata": {},
   "outputs": [
    {
     "name": "stdout",
     "output_type": "stream",
     "text": [
      "<class 'pandas.core.frame.DataFrame'>\n",
      "Int64Index: 99 entries, 0 to 98\n",
      "Data columns (total 14 columns):\n",
      " #   Column                Non-Null Count  Dtype  \n",
      "---  ------                --------------  -----  \n",
      " 0   color                 88 non-null     object \n",
      " 1   director_name         88 non-null     object \n",
      " 2   duration              99 non-null     int64  \n",
      " 3   gross                 99 non-null     object \n",
      " 4   genres                98 non-null     object \n",
      " 5   movie_title           99 non-null     object \n",
      " 6   title_year            99 non-null     int64  \n",
      " 7   language              99 non-null     object \n",
      " 8   country               99 non-null     object \n",
      " 9   budget                99 non-null     object \n",
      " 10  imdb_score            99 non-null     float64\n",
      " 11  actors                99 non-null     object \n",
      " 12  movie_facebook_likes  99 non-null     int64  \n",
      " 13  movie_twitter_likes   99 non-null     int64  \n",
      "dtypes: float64(1), int64(4), object(9)\n",
      "memory usage: 11.6+ KB\n"
     ]
    },
    {
     "data": {
      "text/plain": [
       "(None,\n",
       "          duration   title_year  imdb_score  movie_facebook_likes  \\\n",
       " count   99.000000    99.000000   99.000000             99.000000   \n",
       " mean   155.494949  1944.010101    6.892929          66045.707071   \n",
       " std     72.797927   393.848787    1.925514          58108.860365   \n",
       " min    -50.000000 -1000.000000   -7.500000              0.000000   \n",
       " 25%    138.500000  2012.000000    6.550000          25000.000000   \n",
       " 50%    143.000000  2013.000000    7.200000          54000.000000   \n",
       " 75%    155.000000  2014.000000    7.850000          85500.000000   \n",
       " max    650.000000  2030.000000    8.800000         349000.000000   \n",
       " \n",
       "        movie_twitter_likes  \n",
       " count                 99.0  \n",
       " mean                1000.0  \n",
       " std                    0.0  \n",
       " min                 1000.0  \n",
       " 25%                 1000.0  \n",
       " 50%                 1000.0  \n",
       " 75%                 1000.0  \n",
       " max                 1000.0  ,\n",
       "         color director_name    duration gross                   genres  \\\n",
       " count      88            88   99.000000    99                       98   \n",
       " unique      3            63         NaN    87                       56   \n",
       " top     Color  Ridley Scott         NaN  $nan  Action|Adventure|Sci-Fi   \n",
       " freq       86             4         NaN     7                       10   \n",
       " mean      NaN           NaN  155.494949   NaN                      NaN   \n",
       " std       NaN           NaN   72.797927   NaN                      NaN   \n",
       " min       NaN           NaN  -50.000000   NaN                      NaN   \n",
       " 25%       NaN           NaN  138.500000   NaN                      NaN   \n",
       " 50%       NaN           NaN  143.000000   NaN                      NaN   \n",
       " 75%       NaN           NaN  155.000000   NaN                      NaN   \n",
       " max       NaN           NaN  650.000000   NaN                      NaN   \n",
       " \n",
       "        movie_title   title_year language country              budget  \\\n",
       " count           99    99.000000       99      99                  99   \n",
       " unique          91          NaN        1      12                  57   \n",
       " top        ben-hur          NaN  English     USA  USD 100,000,000.00   \n",
       " freq             3          NaN       99      77                   6   \n",
       " mean           NaN  1944.010101      NaN     NaN                 NaN   \n",
       " std            NaN   393.848787      NaN     NaN                 NaN   \n",
       " min            NaN -1000.000000      NaN     NaN                 NaN   \n",
       " 25%            NaN  2012.000000      NaN     NaN                 NaN   \n",
       " 50%            NaN  2013.000000      NaN     NaN                 NaN   \n",
       " 75%            NaN  2014.000000      NaN     NaN                 NaN   \n",
       " max            NaN  2030.000000      NaN     NaN                 NaN   \n",
       " \n",
       "         imdb_score                                             actors  \\\n",
       " count    99.000000                                                 99   \n",
       " unique         NaN                                                 88   \n",
       " top            NaN  Chris Hemsworth,Robert Downey Jr.,Scarlett Joh...   \n",
       " freq           NaN                                                  3   \n",
       " mean      6.892929                                                NaN   \n",
       " std       1.925514                                                NaN   \n",
       " min      -7.500000                                                NaN   \n",
       " 25%       6.550000                                                NaN   \n",
       " 50%       7.200000                                                NaN   \n",
       " 75%       7.850000                                                NaN   \n",
       " max       8.800000                                                NaN   \n",
       " \n",
       "         movie_facebook_likes  movie_twitter_likes  \n",
       " count              99.000000                 99.0  \n",
       " unique                   NaN                  NaN  \n",
       " top                      NaN                  NaN  \n",
       " freq                     NaN                  NaN  \n",
       " mean            66045.707071               1000.0  \n",
       " std             58108.860365                  0.0  \n",
       " min                 0.000000               1000.0  \n",
       " 25%             25000.000000               1000.0  \n",
       " 50%             54000.000000               1000.0  \n",
       " 75%             85500.000000               1000.0  \n",
       " max            349000.000000               1000.0  )"
      ]
     },
     "execution_count": 6,
     "metadata": {},
     "output_type": "execute_result"
    }
   ],
   "source": [
    "df_imdb.info(), df_imdb.describe(), df_imdb.describe(include='all')"
   ]
  },
  {
   "cell_type": "markdown",
   "metadata": {},
   "source": [
    "### Valores faltantes: `.isnull()`, `.isna()`"
   ]
  },
  {
   "cell_type": "code",
   "execution_count": 8,
   "metadata": {},
   "outputs": [
    {
     "data": {
      "text/plain": [
       "(    color  director_name  duration  gross  genres  movie_title  title_year  \\\n",
       " 0   False          False     False  False   False        False       False   \n",
       " 1   False          False     False  False   False        False       False   \n",
       " 2   False          False     False  False   False        False       False   \n",
       " 3   False          False     False  False   False        False       False   \n",
       " 4   False          False     False  False   False        False       False   \n",
       " ..    ...            ...       ...    ...     ...          ...         ...   \n",
       " 94  False          False     False  False   False        False       False   \n",
       " 95  False          False     False  False   False        False       False   \n",
       " 96  False          False     False  False   False        False       False   \n",
       " 97  False          False     False  False   False        False       False   \n",
       " 98  False          False     False  False   False        False       False   \n",
       " \n",
       "     language  country  budget  imdb_score  actors  movie_facebook_likes  \\\n",
       " 0      False    False   False       False   False                 False   \n",
       " 1      False    False   False       False   False                 False   \n",
       " 2      False    False   False       False   False                 False   \n",
       " 3      False    False   False       False   False                 False   \n",
       " 4      False    False   False       False   False                 False   \n",
       " ..       ...      ...     ...         ...     ...                   ...   \n",
       " 94     False    False   False       False   False                 False   \n",
       " 95     False    False   False       False   False                 False   \n",
       " 96     False    False   False       False   False                 False   \n",
       " 97     False    False   False       False   False                 False   \n",
       " 98     False    False   False       False   False                 False   \n",
       " \n",
       "     movie_twitter_likes  \n",
       " 0                 False  \n",
       " 1                 False  \n",
       " 2                 False  \n",
       " 3                 False  \n",
       " 4                 False  \n",
       " ..                  ...  \n",
       " 94                False  \n",
       " 95                False  \n",
       " 96                False  \n",
       " 97                False  \n",
       " 98                False  \n",
       " \n",
       " [99 rows x 14 columns],\n",
       " color                   11\n",
       " director_name           11\n",
       " duration                 0\n",
       " gross                    0\n",
       " genres                   1\n",
       " movie_title              0\n",
       " title_year               0\n",
       " language                 0\n",
       " country                  0\n",
       " budget                   0\n",
       " imdb_score               0\n",
       " actors                   0\n",
       " movie_facebook_likes     0\n",
       " movie_twitter_likes      0\n",
       " dtype: int64)"
      ]
     },
     "execution_count": 8,
     "metadata": {},
     "output_type": "execute_result"
    }
   ],
   "source": [
    "df_imdb.isnull(), df_imdb.isna().sum()"
   ]
  },
  {
   "cell_type": "markdown",
   "metadata": {},
   "source": [
    "### Quitar filas duplicadas: `.duplicated()`. `.drop_duplicates()`"
   ]
  },
  {
   "cell_type": "code",
   "execution_count": 9,
   "metadata": {},
   "outputs": [
    {
     "data": {
      "text/html": [
       "<div>\n",
       "<style scoped>\n",
       "    .dataframe tbody tr th:only-of-type {\n",
       "        vertical-align: middle;\n",
       "    }\n",
       "\n",
       "    .dataframe tbody tr th {\n",
       "        vertical-align: top;\n",
       "    }\n",
       "\n",
       "    .dataframe thead th {\n",
       "        text-align: right;\n",
       "    }\n",
       "</style>\n",
       "<table border=\"1\" class=\"dataframe\">\n",
       "  <thead>\n",
       "    <tr style=\"text-align: right;\">\n",
       "      <th></th>\n",
       "      <th>8</th>\n",
       "      <th>9</th>\n",
       "      <th>30</th>\n",
       "      <th>31</th>\n",
       "      <th>52</th>\n",
       "      <th>53</th>\n",
       "      <th>54</th>\n",
       "      <th>55</th>\n",
       "      <th>61</th>\n",
       "      <th>63</th>\n",
       "    </tr>\n",
       "  </thead>\n",
       "  <tbody>\n",
       "    <tr>\n",
       "      <th>color</th>\n",
       "      <td>Color</td>\n",
       "      <td>Color</td>\n",
       "      <td>Color</td>\n",
       "      <td>Color</td>\n",
       "      <td>Color</td>\n",
       "      <td>Color</td>\n",
       "      <td>Color</td>\n",
       "      <td>Color</td>\n",
       "      <td>Color</td>\n",
       "      <td>Color</td>\n",
       "    </tr>\n",
       "    <tr>\n",
       "      <th>director_name</th>\n",
       "      <td>Joss Whedon</td>\n",
       "      <td>Joss Whedon</td>\n",
       "      <td>Ridley Scott</td>\n",
       "      <td>Ridley Scott</td>\n",
       "      <td>Sam Mendes</td>\n",
       "      <td>Sam Mendes</td>\n",
       "      <td>Baz Luhrmann</td>\n",
       "      <td>Baz Luhrmann</td>\n",
       "      <td>Timur Bekmambetov</td>\n",
       "      <td>Timur Bekmambetov</td>\n",
       "    </tr>\n",
       "    <tr>\n",
       "      <th>duration</th>\n",
       "      <td>173</td>\n",
       "      <td>173</td>\n",
       "      <td>150</td>\n",
       "      <td>150</td>\n",
       "      <td>143</td>\n",
       "      <td>143</td>\n",
       "      <td>143</td>\n",
       "      <td>143</td>\n",
       "      <td>141</td>\n",
       "      <td>141</td>\n",
       "    </tr>\n",
       "    <tr>\n",
       "      <th>gross</th>\n",
       "      <td>$623,279,547.00</td>\n",
       "      <td>$623,279,547.00</td>\n",
       "      <td>$65,007,045.00</td>\n",
       "      <td>$65,007,045.00</td>\n",
       "      <td>$304,360,277.00</td>\n",
       "      <td>$304,360,277.00</td>\n",
       "      <td>$144,812,796.00</td>\n",
       "      <td>$144,812,796.00</td>\n",
       "      <td>$nan</td>\n",
       "      <td>$nan</td>\n",
       "    </tr>\n",
       "    <tr>\n",
       "      <th>genres</th>\n",
       "      <td>Action|Adventure|Sci-Fi</td>\n",
       "      <td>Action|Adventure|Sci-Fi</td>\n",
       "      <td>Action|Adventure|Drama</td>\n",
       "      <td>Action|Adventure|Drama</td>\n",
       "      <td>Action|Adventure|Thriller</td>\n",
       "      <td>Action|Adventure|Thriller</td>\n",
       "      <td>Drama|Romance</td>\n",
       "      <td>Drama|Romance</td>\n",
       "      <td>Adventure|Drama|History</td>\n",
       "      <td>Adventure|Drama|History</td>\n",
       "    </tr>\n",
       "    <tr>\n",
       "      <th>movie_title</th>\n",
       "      <td>the avengers</td>\n",
       "      <td>the avengers</td>\n",
       "      <td>exodus: gods and kings</td>\n",
       "      <td>exodus: gods and kings</td>\n",
       "      <td>skyfall</td>\n",
       "      <td>skyfall</td>\n",
       "      <td>the great gatsby</td>\n",
       "      <td>the great gatsby</td>\n",
       "      <td>ben-hur</td>\n",
       "      <td>ben-hur</td>\n",
       "    </tr>\n",
       "    <tr>\n",
       "      <th>title_year</th>\n",
       "      <td>2012</td>\n",
       "      <td>2012</td>\n",
       "      <td>2014</td>\n",
       "      <td>2014</td>\n",
       "      <td>2012</td>\n",
       "      <td>2012</td>\n",
       "      <td>2013</td>\n",
       "      <td>2013</td>\n",
       "      <td>2016</td>\n",
       "      <td>2016</td>\n",
       "    </tr>\n",
       "    <tr>\n",
       "      <th>language</th>\n",
       "      <td>English</td>\n",
       "      <td>English</td>\n",
       "      <td>English</td>\n",
       "      <td>English</td>\n",
       "      <td>English</td>\n",
       "      <td>English</td>\n",
       "      <td>English</td>\n",
       "      <td>English</td>\n",
       "      <td>English</td>\n",
       "      <td>English</td>\n",
       "    </tr>\n",
       "    <tr>\n",
       "      <th>country</th>\n",
       "      <td>USA</td>\n",
       "      <td>USA</td>\n",
       "      <td>UK</td>\n",
       "      <td>UK</td>\n",
       "      <td>UK</td>\n",
       "      <td>UK</td>\n",
       "      <td>Australia</td>\n",
       "      <td>Australia</td>\n",
       "      <td>USA</td>\n",
       "      <td>USA</td>\n",
       "    </tr>\n",
       "    <tr>\n",
       "      <th>budget</th>\n",
       "      <td>USD 220,000,000.00</td>\n",
       "      <td>USD 220,000,000.00</td>\n",
       "      <td>USD 140,000,000.00</td>\n",
       "      <td>USD 140,000,000.00</td>\n",
       "      <td>USD 200,000,000.00</td>\n",
       "      <td>USD 200,000,000.00</td>\n",
       "      <td>USD 105,000,000.00</td>\n",
       "      <td>USD 105,000,000.00</td>\n",
       "      <td>USD 100,000,000.00</td>\n",
       "      <td>USD 100,000,000.00</td>\n",
       "    </tr>\n",
       "    <tr>\n",
       "      <th>imdb_score</th>\n",
       "      <td>8.1</td>\n",
       "      <td>8.1</td>\n",
       "      <td>6.1</td>\n",
       "      <td>6.1</td>\n",
       "      <td>7.8</td>\n",
       "      <td>7.8</td>\n",
       "      <td>7.3</td>\n",
       "      <td>7.3</td>\n",
       "      <td>6.1</td>\n",
       "      <td>6.1</td>\n",
       "    </tr>\n",
       "    <tr>\n",
       "      <th>actors</th>\n",
       "      <td>Chris Hemsworth,Robert Downey Jr.,Scarlett Joh...</td>\n",
       "      <td>Chris Hemsworth,Robert Downey Jr.,Scarlett Joh...</td>\n",
       "      <td>Christian Bale,María Valverde,Ben Mendelsohn</td>\n",
       "      <td>Christian Bale,María Valverde,Ben Mendelsohn</td>\n",
       "      <td>Albert Finney,Helen McCrory,Rory Kinnear</td>\n",
       "      <td>Albert Finney,Helen McCrory,Rory Kinnear</td>\n",
       "      <td>Leonardo DiCaprio,Elizabeth Debicki,Steve Bisley</td>\n",
       "      <td>Leonardo DiCaprio,Elizabeth Debicki,Steve Bisley</td>\n",
       "      <td>Morgan Freeman,Ayelet Zurer,Moises Arias</td>\n",
       "      <td>Morgan Freeman,Ayelet Zurer,Moises Arias</td>\n",
       "    </tr>\n",
       "    <tr>\n",
       "      <th>movie_facebook_likes</th>\n",
       "      <td>123000</td>\n",
       "      <td>123000</td>\n",
       "      <td>51000</td>\n",
       "      <td>51000</td>\n",
       "      <td>80000</td>\n",
       "      <td>80000</td>\n",
       "      <td>115000</td>\n",
       "      <td>115000</td>\n",
       "      <td>0</td>\n",
       "      <td>0</td>\n",
       "    </tr>\n",
       "    <tr>\n",
       "      <th>movie_twitter_likes</th>\n",
       "      <td>1000</td>\n",
       "      <td>1000</td>\n",
       "      <td>1000</td>\n",
       "      <td>1000</td>\n",
       "      <td>1000</td>\n",
       "      <td>1000</td>\n",
       "      <td>1000</td>\n",
       "      <td>1000</td>\n",
       "      <td>1000</td>\n",
       "      <td>1000</td>\n",
       "    </tr>\n",
       "  </tbody>\n",
       "</table>\n",
       "</div>"
      ],
      "text/plain": [
       "                                                                     8   \\\n",
       "color                                                             Color   \n",
       "director_name                                               Joss Whedon   \n",
       "duration                                                            173   \n",
       "gross                                                   $623,279,547.00   \n",
       "genres                                          Action|Adventure|Sci-Fi   \n",
       "movie_title                                                the avengers   \n",
       "title_year                                                         2012   \n",
       "language                                                        English   \n",
       "country                                                             USA   \n",
       "budget                                               USD 220,000,000.00   \n",
       "imdb_score                                                          8.1   \n",
       "actors                Chris Hemsworth,Robert Downey Jr.,Scarlett Joh...   \n",
       "movie_facebook_likes                                             123000   \n",
       "movie_twitter_likes                                                1000   \n",
       "\n",
       "                                                                     9   \\\n",
       "color                                                             Color   \n",
       "director_name                                               Joss Whedon   \n",
       "duration                                                            173   \n",
       "gross                                                   $623,279,547.00   \n",
       "genres                                          Action|Adventure|Sci-Fi   \n",
       "movie_title                                                the avengers   \n",
       "title_year                                                         2012   \n",
       "language                                                        English   \n",
       "country                                                             USA   \n",
       "budget                                               USD 220,000,000.00   \n",
       "imdb_score                                                          8.1   \n",
       "actors                Chris Hemsworth,Robert Downey Jr.,Scarlett Joh...   \n",
       "movie_facebook_likes                                             123000   \n",
       "movie_twitter_likes                                                1000   \n",
       "\n",
       "                                                                30  \\\n",
       "color                                                        Color   \n",
       "director_name                                         Ridley Scott   \n",
       "duration                                                       150   \n",
       "gross                                               $65,007,045.00   \n",
       "genres                                      Action|Adventure|Drama   \n",
       "movie_title                                 exodus: gods and kings   \n",
       "title_year                                                    2014   \n",
       "language                                                   English   \n",
       "country                                                         UK   \n",
       "budget                                          USD 140,000,000.00   \n",
       "imdb_score                                                     6.1   \n",
       "actors                Christian Bale,María Valverde,Ben Mendelsohn   \n",
       "movie_facebook_likes                                         51000   \n",
       "movie_twitter_likes                                           1000   \n",
       "\n",
       "                                                                31  \\\n",
       "color                                                        Color   \n",
       "director_name                                         Ridley Scott   \n",
       "duration                                                       150   \n",
       "gross                                               $65,007,045.00   \n",
       "genres                                      Action|Adventure|Drama   \n",
       "movie_title                                 exodus: gods and kings   \n",
       "title_year                                                    2014   \n",
       "language                                                   English   \n",
       "country                                                         UK   \n",
       "budget                                          USD 140,000,000.00   \n",
       "imdb_score                                                     6.1   \n",
       "actors                Christian Bale,María Valverde,Ben Mendelsohn   \n",
       "movie_facebook_likes                                         51000   \n",
       "movie_twitter_likes                                           1000   \n",
       "\n",
       "                                                            52  \\\n",
       "color                                                    Color   \n",
       "director_name                                       Sam Mendes   \n",
       "duration                                                   143   \n",
       "gross                                          $304,360,277.00   \n",
       "genres                               Action|Adventure|Thriller   \n",
       "movie_title                                            skyfall   \n",
       "title_year                                                2012   \n",
       "language                                               English   \n",
       "country                                                     UK   \n",
       "budget                                      USD 200,000,000.00   \n",
       "imdb_score                                                 7.8   \n",
       "actors                Albert Finney,Helen McCrory,Rory Kinnear   \n",
       "movie_facebook_likes                                     80000   \n",
       "movie_twitter_likes                                       1000   \n",
       "\n",
       "                                                            53  \\\n",
       "color                                                    Color   \n",
       "director_name                                       Sam Mendes   \n",
       "duration                                                   143   \n",
       "gross                                          $304,360,277.00   \n",
       "genres                               Action|Adventure|Thriller   \n",
       "movie_title                                            skyfall   \n",
       "title_year                                                2012   \n",
       "language                                               English   \n",
       "country                                                     UK   \n",
       "budget                                      USD 200,000,000.00   \n",
       "imdb_score                                                 7.8   \n",
       "actors                Albert Finney,Helen McCrory,Rory Kinnear   \n",
       "movie_facebook_likes                                     80000   \n",
       "movie_twitter_likes                                       1000   \n",
       "\n",
       "                                                                    54  \\\n",
       "color                                                            Color   \n",
       "director_name                                             Baz Luhrmann   \n",
       "duration                                                           143   \n",
       "gross                                                  $144,812,796.00   \n",
       "genres                                                   Drama|Romance   \n",
       "movie_title                                           the great gatsby   \n",
       "title_year                                                        2013   \n",
       "language                                                       English   \n",
       "country                                                      Australia   \n",
       "budget                                              USD 105,000,000.00   \n",
       "imdb_score                                                         7.3   \n",
       "actors                Leonardo DiCaprio,Elizabeth Debicki,Steve Bisley   \n",
       "movie_facebook_likes                                            115000   \n",
       "movie_twitter_likes                                               1000   \n",
       "\n",
       "                                                                    55  \\\n",
       "color                                                            Color   \n",
       "director_name                                             Baz Luhrmann   \n",
       "duration                                                           143   \n",
       "gross                                                  $144,812,796.00   \n",
       "genres                                                   Drama|Romance   \n",
       "movie_title                                           the great gatsby   \n",
       "title_year                                                        2013   \n",
       "language                                                       English   \n",
       "country                                                      Australia   \n",
       "budget                                              USD 105,000,000.00   \n",
       "imdb_score                                                         7.3   \n",
       "actors                Leonardo DiCaprio,Elizabeth Debicki,Steve Bisley   \n",
       "movie_facebook_likes                                            115000   \n",
       "movie_twitter_likes                                               1000   \n",
       "\n",
       "                                                            61  \\\n",
       "color                                                    Color   \n",
       "director_name                                Timur Bekmambetov   \n",
       "duration                                                   141   \n",
       "gross                                                     $nan   \n",
       "genres                                 Adventure|Drama|History   \n",
       "movie_title                                            ben-hur   \n",
       "title_year                                                2016   \n",
       "language                                               English   \n",
       "country                                                    USA   \n",
       "budget                                      USD 100,000,000.00   \n",
       "imdb_score                                                 6.1   \n",
       "actors                Morgan Freeman,Ayelet Zurer,Moises Arias   \n",
       "movie_facebook_likes                                         0   \n",
       "movie_twitter_likes                                       1000   \n",
       "\n",
       "                                                            63  \n",
       "color                                                    Color  \n",
       "director_name                                Timur Bekmambetov  \n",
       "duration                                                   141  \n",
       "gross                                                     $nan  \n",
       "genres                                 Adventure|Drama|History  \n",
       "movie_title                                            ben-hur  \n",
       "title_year                                                2016  \n",
       "language                                               English  \n",
       "country                                                    USA  \n",
       "budget                                      USD 100,000,000.00  \n",
       "imdb_score                                                 6.1  \n",
       "actors                Morgan Freeman,Ayelet Zurer,Moises Arias  \n",
       "movie_facebook_likes                                         0  \n",
       "movie_twitter_likes                                       1000  "
      ]
     },
     "execution_count": 9,
     "metadata": {},
     "output_type": "execute_result"
    }
   ],
   "source": [
    "df_imdb[df_imdb.duplicated(keep=False)].T"
   ]
  },
  {
   "cell_type": "code",
   "execution_count": 10,
   "metadata": {},
   "outputs": [],
   "source": [
    "df_imdb.drop_duplicates(inplace=True)"
   ]
  },
  {
   "cell_type": "code",
   "execution_count": 11,
   "metadata": {},
   "outputs": [
    {
     "data": {
      "text/plain": [
       "(94, 14)"
      ]
     },
     "execution_count": 11,
     "metadata": {},
     "output_type": "execute_result"
    }
   ],
   "source": [
    "df_imdb.shape"
   ]
  },
  {
   "cell_type": "markdown",
   "metadata": {},
   "source": [
    "## Tratamiento de columnas\n",
    "\n",
    "Dylan:\n",
    "\n",
    "- `color`\n",
    "- `director_name`\n",
    "- `gross`\n",
    "- `duration`\n",
    "\n",
    "Todos:\n",
    "- `movie_title`\n",
    "- `title_year`\n",
    "- `movie_twitter_likes`\n",
    "- `imdb_score`\n",
    "- `country`\n",
    "- `language`\n",
    "- `actors`\n",
    "- `movie_facebook_likes`\n"
   ]
  },
  {
   "cell_type": "markdown",
   "metadata": {},
   "source": [
    "### Columna `color`"
   ]
  },
  {
   "cell_type": "code",
   "execution_count": 12,
   "metadata": {},
   "outputs": [
    {
     "data": {
      "text/plain": [
       "Color               81\n",
       "NaN                 11\n",
       "color                1\n",
       " Black and White     1\n",
       "Name: color, dtype: int64"
      ]
     },
     "execution_count": 12,
     "metadata": {},
     "output_type": "execute_result"
    }
   ],
   "source": [
    "df_imdb.color.value_counts(dropna=False)"
   ]
  },
  {
   "cell_type": "code",
   "execution_count": 13,
   "metadata": {},
   "outputs": [],
   "source": [
    "df_imdb.loc[df_imdb.color.isnull(),'color']='Color'"
   ]
  },
  {
   "cell_type": "code",
   "execution_count": 14,
   "metadata": {},
   "outputs": [],
   "source": [
    "df_imdb.color=df_imdb.color.str.strip().str.capitalize()"
   ]
  },
  {
   "cell_type": "code",
   "execution_count": 15,
   "metadata": {},
   "outputs": [],
   "source": [
    "assert df_imdb.color.isnull().any()==False"
   ]
  },
  {
   "cell_type": "code",
   "execution_count": 16,
   "metadata": {},
   "outputs": [
    {
     "data": {
      "text/plain": [
       "Color              93\n",
       "Black and white     1\n",
       "Name: color, dtype: int64"
      ]
     },
     "execution_count": 16,
     "metadata": {},
     "output_type": "execute_result"
    }
   ],
   "source": [
    "df_imdb.color.value_counts(dropna=False)"
   ]
  },
  {
   "cell_type": "markdown",
   "metadata": {},
   "source": [
    "### Columna `director_name`"
   ]
  },
  {
   "cell_type": "code",
   "execution_count": 17,
   "metadata": {},
   "outputs": [
    {
     "data": {
      "text/plain": [
       "NaN                  11\n",
       "Michael Bay           3\n",
       "Peter Jackson         3\n",
       "Christopher Nolan     3\n",
       "Ridley Scott          3\n",
       "                     ..\n",
       "Adam McKay            1\n",
       "Zack Snyder           1\n",
       "Baz Luhrmann          1\n",
       "Kenneth Lonergan      1\n",
       "Clint Eastwood        1\n",
       "Name: director_name, Length: 64, dtype: int64"
      ]
     },
     "execution_count": 17,
     "metadata": {},
     "output_type": "execute_result"
    }
   ],
   "source": [
    "df_imdb.director_name.value_counts(dropna=False)"
   ]
  },
  {
   "cell_type": "code",
   "execution_count": 18,
   "metadata": {},
   "outputs": [
    {
     "data": {
      "text/html": [
       "<div>\n",
       "<style scoped>\n",
       "    .dataframe tbody tr th:only-of-type {\n",
       "        vertical-align: middle;\n",
       "    }\n",
       "\n",
       "    .dataframe tbody tr th {\n",
       "        vertical-align: top;\n",
       "    }\n",
       "\n",
       "    .dataframe thead th {\n",
       "        text-align: right;\n",
       "    }\n",
       "</style>\n",
       "<table border=\"1\" class=\"dataframe\">\n",
       "  <thead>\n",
       "    <tr style=\"text-align: right;\">\n",
       "      <th></th>\n",
       "      <th>5</th>\n",
       "      <th>24</th>\n",
       "      <th>32</th>\n",
       "      <th>41</th>\n",
       "      <th>56</th>\n",
       "      <th>59</th>\n",
       "      <th>71</th>\n",
       "      <th>75</th>\n",
       "      <th>82</th>\n",
       "      <th>84</th>\n",
       "      <th>91</th>\n",
       "    </tr>\n",
       "  </thead>\n",
       "  <tbody>\n",
       "    <tr>\n",
       "      <th>color</th>\n",
       "      <td>Color</td>\n",
       "      <td>Color</td>\n",
       "      <td>Color</td>\n",
       "      <td>Color</td>\n",
       "      <td>Color</td>\n",
       "      <td>Color</td>\n",
       "      <td>Color</td>\n",
       "      <td>Color</td>\n",
       "      <td>Color</td>\n",
       "      <td>Color</td>\n",
       "      <td>Color</td>\n",
       "    </tr>\n",
       "    <tr>\n",
       "      <th>director_name</th>\n",
       "      <td>NaN</td>\n",
       "      <td>NaN</td>\n",
       "      <td>NaN</td>\n",
       "      <td>NaN</td>\n",
       "      <td>NaN</td>\n",
       "      <td>NaN</td>\n",
       "      <td>NaN</td>\n",
       "      <td>NaN</td>\n",
       "      <td>NaN</td>\n",
       "      <td>NaN</td>\n",
       "      <td>NaN</td>\n",
       "    </tr>\n",
       "    <tr>\n",
       "      <th>duration</th>\n",
       "      <td>183</td>\n",
       "      <td>156</td>\n",
       "      <td>150</td>\n",
       "      <td>147</td>\n",
       "      <td>143</td>\n",
       "      <td>142</td>\n",
       "      <td>139</td>\n",
       "      <td>138</td>\n",
       "      <td>137</td>\n",
       "      <td>137</td>\n",
       "      <td>136</td>\n",
       "    </tr>\n",
       "    <tr>\n",
       "      <th>gross</th>\n",
       "      <td>$330,249,062.00</td>\n",
       "      <td>$183,635,922.00</td>\n",
       "      <td>$182,204,440.00</td>\n",
       "      <td>$407,197,282.00</td>\n",
       "      <td>$nan</td>\n",
       "      <td>$407,999,255.00</td>\n",
       "      <td>$150,832,203.00</td>\n",
       "      <td>$150,117,807.00</td>\n",
       "      <td>$37,304,950.00</td>\n",
       "      <td>$281,666,058.00</td>\n",
       "      <td>$52,474,616.00</td>\n",
       "    </tr>\n",
       "    <tr>\n",
       "      <th>genres</th>\n",
       "      <td>Action|Adventure|Sci-Fi</td>\n",
       "      <td>Adventure|Drama|Thriller|Western</td>\n",
       "      <td>Biography|Drama|History|War</td>\n",
       "      <td>Action|Adventure|Sci-Fi</td>\n",
       "      <td>Drama|Horror|Thriller</td>\n",
       "      <td>Adventure|Drama|Sci-Fi|Thriller</td>\n",
       "      <td>Adventure|Mystery|Sci-Fi</td>\n",
       "      <td>Crime|Drama</td>\n",
       "      <td>Biography|Crime|Drama</td>\n",
       "      <td>Adventure|Sci-Fi</td>\n",
       "      <td>Drama</td>\n",
       "    </tr>\n",
       "    <tr>\n",
       "      <th>movie_title</th>\n",
       "      <td>batman v superman: dawn of justice</td>\n",
       "      <td>the revenant</td>\n",
       "      <td>lincoln</td>\n",
       "      <td>captain america: civil war</td>\n",
       "      <td>the ridges</td>\n",
       "      <td>the hunger games</td>\n",
       "      <td>divergent</td>\n",
       "      <td>american hustle</td>\n",
       "      <td>j. edgar</td>\n",
       "      <td>the hunger games: mockingjay - part 2</td>\n",
       "      <td>wall street: money never sleeps</td>\n",
       "    </tr>\n",
       "    <tr>\n",
       "      <th>title_year</th>\n",
       "      <td>202</td>\n",
       "      <td>2015</td>\n",
       "      <td>2012</td>\n",
       "      <td>2016</td>\n",
       "      <td>2011</td>\n",
       "      <td>2012</td>\n",
       "      <td>1800</td>\n",
       "      <td>2013</td>\n",
       "      <td>2011</td>\n",
       "      <td>2015</td>\n",
       "      <td>2010</td>\n",
       "    </tr>\n",
       "    <tr>\n",
       "      <th>language</th>\n",
       "      <td>English</td>\n",
       "      <td>English</td>\n",
       "      <td>English</td>\n",
       "      <td>English</td>\n",
       "      <td>English</td>\n",
       "      <td>English</td>\n",
       "      <td>English</td>\n",
       "      <td>English</td>\n",
       "      <td>English</td>\n",
       "      <td>English</td>\n",
       "      <td>English</td>\n",
       "    </tr>\n",
       "    <tr>\n",
       "      <th>country</th>\n",
       "      <td>USA</td>\n",
       "      <td>USA</td>\n",
       "      <td>USA</td>\n",
       "      <td>USA</td>\n",
       "      <td>USA</td>\n",
       "      <td>USA</td>\n",
       "      <td>USA</td>\n",
       "      <td>USA</td>\n",
       "      <td>USA</td>\n",
       "      <td>USA</td>\n",
       "      <td>USA</td>\n",
       "    </tr>\n",
       "    <tr>\n",
       "      <th>budget</th>\n",
       "      <td>USD 250,000,000.00</td>\n",
       "      <td>USD 135,000,000.00</td>\n",
       "      <td>USD 65,000,000.00</td>\n",
       "      <td>USD 250,000,000.00</td>\n",
       "      <td>USD 17,350.00</td>\n",
       "      <td>USD 78,000,000.00</td>\n",
       "      <td>USD 85,000,000.00</td>\n",
       "      <td>USD 40,000,000.00</td>\n",
       "      <td>USD 35,000,000.00</td>\n",
       "      <td>USD 160,000,000.00</td>\n",
       "      <td>USD 70,000,000.00</td>\n",
       "    </tr>\n",
       "    <tr>\n",
       "      <th>imdb_score</th>\n",
       "      <td>6.9</td>\n",
       "      <td>8.1</td>\n",
       "      <td>7.4</td>\n",
       "      <td>8.2</td>\n",
       "      <td>3.0</td>\n",
       "      <td>7.3</td>\n",
       "      <td>6.7</td>\n",
       "      <td>7.3</td>\n",
       "      <td>6.6</td>\n",
       "      <td>6.6</td>\n",
       "      <td>6.3</td>\n",
       "    </tr>\n",
       "    <tr>\n",
       "      <th>actors</th>\n",
       "      <td>Henry Cavill,Lauren Cohan,Alan D. Purwin</td>\n",
       "      <td>Leonardo DiCaprio,Tom Hardy,Lukas Haas</td>\n",
       "      <td>Joseph Gordon-Levitt,Hal Holbrook,Bruce McGill</td>\n",
       "      <td>Robert Downey Jr.,Scarlett Johansson,Chris Evans</td>\n",
       "      <td>Robbie Barnes,Alana Kaniewski,Brandon Landers</td>\n",
       "      <td>Jennifer Lawrence,Josh Hutcherson,Anthony Reyn...</td>\n",
       "      <td>Kate Winslet,Theo James,Mekhi Phifer</td>\n",
       "      <td>Jennifer Lawrence,Christian Bale,Bradley Cooper</td>\n",
       "      <td>Leonardo DiCaprio,Naomi Watts,Kaitlyn Dever</td>\n",
       "      <td>Jennifer Lawrence,Philip Seymour Hoffman,Josh ...</td>\n",
       "      <td>Frank Langella,Austin Pendleton,John Buffalo M...</td>\n",
       "    </tr>\n",
       "    <tr>\n",
       "      <th>movie_facebook_likes</th>\n",
       "      <td>197000</td>\n",
       "      <td>190000</td>\n",
       "      <td>71000</td>\n",
       "      <td>72000</td>\n",
       "      <td>33</td>\n",
       "      <td>140000</td>\n",
       "      <td>49000</td>\n",
       "      <td>63000</td>\n",
       "      <td>16000</td>\n",
       "      <td>38000</td>\n",
       "      <td>13000</td>\n",
       "    </tr>\n",
       "    <tr>\n",
       "      <th>movie_twitter_likes</th>\n",
       "      <td>1000</td>\n",
       "      <td>1000</td>\n",
       "      <td>1000</td>\n",
       "      <td>1000</td>\n",
       "      <td>1000</td>\n",
       "      <td>1000</td>\n",
       "      <td>1000</td>\n",
       "      <td>1000</td>\n",
       "      <td>1000</td>\n",
       "      <td>1000</td>\n",
       "      <td>1000</td>\n",
       "    </tr>\n",
       "  </tbody>\n",
       "</table>\n",
       "</div>"
      ],
      "text/plain": [
       "                                                            5   \\\n",
       "color                                                    Color   \n",
       "director_name                                              NaN   \n",
       "duration                                                   183   \n",
       "gross                                          $330,249,062.00   \n",
       "genres                                 Action|Adventure|Sci-Fi   \n",
       "movie_title                 batman v superman: dawn of justice   \n",
       "title_year                                                 202   \n",
       "language                                               English   \n",
       "country                                                    USA   \n",
       "budget                                      USD 250,000,000.00   \n",
       "imdb_score                                                 6.9   \n",
       "actors                Henry Cavill,Lauren Cohan,Alan D. Purwin   \n",
       "movie_facebook_likes                                    197000   \n",
       "movie_twitter_likes                                       1000   \n",
       "\n",
       "                                                          24  \\\n",
       "color                                                  Color   \n",
       "director_name                                            NaN   \n",
       "duration                                                 156   \n",
       "gross                                        $183,635,922.00   \n",
       "genres                      Adventure|Drama|Thriller|Western   \n",
       "movie_title                                     the revenant   \n",
       "title_year                                              2015   \n",
       "language                                             English   \n",
       "country                                                  USA   \n",
       "budget                                    USD 135,000,000.00   \n",
       "imdb_score                                               8.1   \n",
       "actors                Leonardo DiCaprio,Tom Hardy,Lukas Haas   \n",
       "movie_facebook_likes                                  190000   \n",
       "movie_twitter_likes                                     1000   \n",
       "\n",
       "                                                                  32  \\\n",
       "color                                                          Color   \n",
       "director_name                                                    NaN   \n",
       "duration                                                         150   \n",
       "gross                                                $182,204,440.00   \n",
       "genres                                   Biography|Drama|History|War   \n",
       "movie_title                                                  lincoln   \n",
       "title_year                                                      2012   \n",
       "language                                                     English   \n",
       "country                                                          USA   \n",
       "budget                                             USD 65,000,000.00   \n",
       "imdb_score                                                       7.4   \n",
       "actors                Joseph Gordon-Levitt,Hal Holbrook,Bruce McGill   \n",
       "movie_facebook_likes                                           71000   \n",
       "movie_twitter_likes                                             1000   \n",
       "\n",
       "                                                                    41  \\\n",
       "color                                                            Color   \n",
       "director_name                                                      NaN   \n",
       "duration                                                           147   \n",
       "gross                                                  $407,197,282.00   \n",
       "genres                                         Action|Adventure|Sci-Fi   \n",
       "movie_title                                 captain america: civil war   \n",
       "title_year                                                        2016   \n",
       "language                                                       English   \n",
       "country                                                            USA   \n",
       "budget                                              USD 250,000,000.00   \n",
       "imdb_score                                                         8.2   \n",
       "actors                Robert Downey Jr.,Scarlett Johansson,Chris Evans   \n",
       "movie_facebook_likes                                             72000   \n",
       "movie_twitter_likes                                               1000   \n",
       "\n",
       "                                                                 56  \\\n",
       "color                                                         Color   \n",
       "director_name                                                   NaN   \n",
       "duration                                                        143   \n",
       "gross                                                          $nan   \n",
       "genres                                        Drama|Horror|Thriller   \n",
       "movie_title                                              the ridges   \n",
       "title_year                                                     2011   \n",
       "language                                                    English   \n",
       "country                                                         USA   \n",
       "budget                                                USD 17,350.00   \n",
       "imdb_score                                                      3.0   \n",
       "actors                Robbie Barnes,Alana Kaniewski,Brandon Landers   \n",
       "movie_facebook_likes                                             33   \n",
       "movie_twitter_likes                                            1000   \n",
       "\n",
       "                                                                     59  \\\n",
       "color                                                             Color   \n",
       "director_name                                                       NaN   \n",
       "duration                                                            142   \n",
       "gross                                                   $407,999,255.00   \n",
       "genres                                  Adventure|Drama|Sci-Fi|Thriller   \n",
       "movie_title                                            the hunger games   \n",
       "title_year                                                         2012   \n",
       "language                                                        English   \n",
       "country                                                             USA   \n",
       "budget                                                USD 78,000,000.00   \n",
       "imdb_score                                                          7.3   \n",
       "actors                Jennifer Lawrence,Josh Hutcherson,Anthony Reyn...   \n",
       "movie_facebook_likes                                             140000   \n",
       "movie_twitter_likes                                                1000   \n",
       "\n",
       "                                                        71  \\\n",
       "color                                                Color   \n",
       "director_name                                          NaN   \n",
       "duration                                               139   \n",
       "gross                                      $150,832,203.00   \n",
       "genres                            Adventure|Mystery|Sci-Fi   \n",
       "movie_title                                      divergent   \n",
       "title_year                                            1800   \n",
       "language                                           English   \n",
       "country                                                USA   \n",
       "budget                                   USD 85,000,000.00   \n",
       "imdb_score                                             6.7   \n",
       "actors                Kate Winslet,Theo James,Mekhi Phifer   \n",
       "movie_facebook_likes                                 49000   \n",
       "movie_twitter_likes                                   1000   \n",
       "\n",
       "                                                                   75  \\\n",
       "color                                                           Color   \n",
       "director_name                                                     NaN   \n",
       "duration                                                          138   \n",
       "gross                                                 $150,117,807.00   \n",
       "genres                                                    Crime|Drama   \n",
       "movie_title                                           american hustle   \n",
       "title_year                                                       2013   \n",
       "language                                                      English   \n",
       "country                                                           USA   \n",
       "budget                                              USD 40,000,000.00   \n",
       "imdb_score                                                        7.3   \n",
       "actors                Jennifer Lawrence,Christian Bale,Bradley Cooper   \n",
       "movie_facebook_likes                                            63000   \n",
       "movie_twitter_likes                                              1000   \n",
       "\n",
       "                                                               82  \\\n",
       "color                                                       Color   \n",
       "director_name                                                 NaN   \n",
       "duration                                                      137   \n",
       "gross                                              $37,304,950.00   \n",
       "genres                                      Biography|Crime|Drama   \n",
       "movie_title                                              j. edgar   \n",
       "title_year                                                   2011   \n",
       "language                                                  English   \n",
       "country                                                       USA   \n",
       "budget                                          USD 35,000,000.00   \n",
       "imdb_score                                                    6.6   \n",
       "actors                Leonardo DiCaprio,Naomi Watts,Kaitlyn Dever   \n",
       "movie_facebook_likes                                        16000   \n",
       "movie_twitter_likes                                          1000   \n",
       "\n",
       "                                                                     84  \\\n",
       "color                                                             Color   \n",
       "director_name                                                       NaN   \n",
       "duration                                                            137   \n",
       "gross                                                   $281,666,058.00   \n",
       "genres                                                 Adventure|Sci-Fi   \n",
       "movie_title                       the hunger games: mockingjay - part 2   \n",
       "title_year                                                         2015   \n",
       "language                                                        English   \n",
       "country                                                             USA   \n",
       "budget                                               USD 160,000,000.00   \n",
       "imdb_score                                                          6.6   \n",
       "actors                Jennifer Lawrence,Philip Seymour Hoffman,Josh ...   \n",
       "movie_facebook_likes                                              38000   \n",
       "movie_twitter_likes                                                1000   \n",
       "\n",
       "                                                                     91  \n",
       "color                                                             Color  \n",
       "director_name                                                       NaN  \n",
       "duration                                                            136  \n",
       "gross                                                    $52,474,616.00  \n",
       "genres                                                            Drama  \n",
       "movie_title                             wall street: money never sleeps  \n",
       "title_year                                                         2010  \n",
       "language                                                        English  \n",
       "country                                                             USA  \n",
       "budget                                                USD 70,000,000.00  \n",
       "imdb_score                                                          6.3  \n",
       "actors                Frank Langella,Austin Pendleton,John Buffalo M...  \n",
       "movie_facebook_likes                                              13000  \n",
       "movie_twitter_likes                                                1000  "
      ]
     },
     "execution_count": 18,
     "metadata": {},
     "output_type": "execute_result"
    }
   ],
   "source": [
    "df_imdb[df_imdb.director_name.isnull()].T"
   ]
  },
  {
   "cell_type": "code",
   "execution_count": 19,
   "metadata": {},
   "outputs": [],
   "source": [
    "df_imdb.loc[df_imdb.director_name.isnull(),'director_name']='No information available'"
   ]
  },
  {
   "cell_type": "code",
   "execution_count": 20,
   "metadata": {},
   "outputs": [
    {
     "data": {
      "text/plain": [
       "No information available    11\n",
       "Michael Bay                  3\n",
       "Peter Jackson                3\n",
       "Christopher Nolan            3\n",
       "Ridley Scott                 3\n",
       "                            ..\n",
       "Adam McKay                   1\n",
       "Zack Snyder                  1\n",
       "Baz Luhrmann                 1\n",
       "Kenneth Lonergan             1\n",
       "Clint Eastwood               1\n",
       "Name: director_name, Length: 64, dtype: int64"
      ]
     },
     "execution_count": 20,
     "metadata": {},
     "output_type": "execute_result"
    }
   ],
   "source": [
    "df_imdb.director_name.value_counts(dropna=False)"
   ]
  },
  {
   "cell_type": "code",
   "execution_count": 102,
   "metadata": {},
   "outputs": [],
   "source": [
    "#df_imdb.loc[(df_imdb.director_name=='Nan') | (df_imdb.director_name=='Null') ,'director_name']='No information available'"
   ]
  },
  {
   "cell_type": "code",
   "execution_count": 21,
   "metadata": {},
   "outputs": [],
   "source": [
    "df_imdb.loc[df_imdb.director_name.str.lower().str.strip().isin(['null','nan']),'director_name']='No information available'"
   ]
  },
  {
   "cell_type": "code",
   "execution_count": 104,
   "metadata": {},
   "outputs": [
    {
     "data": {
      "text/plain": [
       "\"df_imdb.loc[df_imdb.director_name.str.lower().str.strip().str.match('null'|'nan'),'director_name']='No information available'\""
      ]
     },
     "execution_count": 104,
     "metadata": {},
     "output_type": "execute_result"
    }
   ],
   "source": [
    "\"\"\"df_imdb.loc[df_imdb.director_name.str.lower().str.strip().str.match('null'|'nan'),'director_name']='No information available'\"\"\""
   ]
  },
  {
   "cell_type": "markdown",
   "metadata": {},
   "source": [
    "### Columna `gross`"
   ]
  },
  {
   "cell_type": "code",
   "execution_count": 22,
   "metadata": {},
   "outputs": [
    {
     "data": {
      "text/plain": [
       "$nan               6\n",
       "$148,775,460.00    2\n",
       "$115,603,980.00    2\n",
       "$116,866,727.00    1\n",
       "$80,574,010.00     1\n",
       "                  ..\n",
       "$3,958,500.00      1\n",
       "$182,204,440.00    1\n",
       "$65,007,045.00     1\n",
       "$228,430,993.00    1\n",
       "$47,034,272.00     1\n",
       "Name: gross, Length: 87, dtype: int64"
      ]
     },
     "execution_count": 22,
     "metadata": {},
     "output_type": "execute_result"
    }
   ],
   "source": [
    "df_imdb.gross.value_counts(dropna=False)\n"
   ]
  },
  {
   "cell_type": "code",
   "execution_count": 23,
   "metadata": {},
   "outputs": [],
   "source": [
    "df_imdb.gross=df_imdb.gross.str.replace('$','',regex=False).str.replace(',','').astype('float')"
   ]
  },
  {
   "cell_type": "code",
   "execution_count": 24,
   "metadata": {},
   "outputs": [
    {
     "data": {
      "text/plain": [
       "6"
      ]
     },
     "execution_count": 24,
     "metadata": {},
     "output_type": "execute_result"
    }
   ],
   "source": [
    "df_imdb.gross.isnull().sum()"
   ]
  },
  {
   "cell_type": "code",
   "execution_count": 25,
   "metadata": {},
   "outputs": [
    {
     "data": {
      "text/plain": [
       "1136505020628.125"
      ]
     },
     "execution_count": 25,
     "metadata": {},
     "output_type": "execute_result"
    }
   ],
   "source": [
    "df_imdb.gross.mean()"
   ]
  },
  {
   "cell_type": "code",
   "execution_count": 26,
   "metadata": {},
   "outputs": [
    {
     "data": {
      "text/plain": [
       "0     116866727.0\n",
       "1     408992272.0\n",
       "2      54116191.0\n",
       "3         46495.0\n",
       "4     258355354.0\n",
       "         ...     \n",
       "94     56667870.0\n",
       "95      7501404.0\n",
       "96    107100855.0\n",
       "97     85707116.0\n",
       "98     47034272.0\n",
       "Name: gross, Length: 94, dtype: float64"
      ]
     },
     "execution_count": 26,
     "metadata": {},
     "output_type": "execute_result"
    }
   ],
   "source": [
    "df_imdb.gross\n"
   ]
  },
  {
   "cell_type": "code",
   "execution_count": 27,
   "metadata": {},
   "outputs": [
    {
     "data": {
      "text/plain": [
       "count    8.800000e+01\n",
       "mean     1.136505e+12\n",
       "std      1.066002e+13\n",
       "min     -9.293900e+04\n",
       "25%      4.158910e+07\n",
       "50%      1.061603e+08\n",
       "75%      2.298020e+08\n",
       "max      1.000000e+14\n",
       "Name: gross, dtype: float64"
      ]
     },
     "execution_count": 27,
     "metadata": {},
     "output_type": "execute_result"
    }
   ],
   "source": [
    "df_imdb.gross.describe()"
   ]
  },
  {
   "cell_type": "code",
   "execution_count": 28,
   "metadata": {},
   "outputs": [
    {
     "data": {
      "text/plain": [
       "<AxesSubplot:>"
      ]
     },
     "execution_count": 28,
     "metadata": {},
     "output_type": "execute_result"
    },
    {
     "data": {
      "image/png": "[encoded data removed]",
      "text/plain": [
       "<Figure size 432x288 with 1 Axes>"
      ]
     },
     "metadata": {
      "needs_background": "light"
     },
     "output_type": "display_data"
    }
   ],
   "source": [
    "df_imdb.gross.hist()"
   ]
  },
  {
   "cell_type": "code",
   "execution_count": 29,
   "metadata": {},
   "outputs": [],
   "source": [
    "df_imdb.loc[(df_imdb.gross>1e9) | (df_imdb.gross<0),'gross']=np.nan"
   ]
  },
  {
   "cell_type": "code",
   "execution_count": 30,
   "metadata": {},
   "outputs": [
    {
     "data": {
      "text/plain": [
       "9"
      ]
     },
     "execution_count": 30,
     "metadata": {},
     "output_type": "execute_result"
    }
   ],
   "source": [
    "df_imdb.gross.isnull().sum()"
   ]
  },
  {
   "cell_type": "code",
   "execution_count": 31,
   "metadata": {},
   "outputs": [],
   "source": [
    "df_imdb.loc[df_imdb.gross.isnull(),'gross']=df_imdb.gross.mean()"
   ]
  },
  {
   "cell_type": "code",
   "execution_count": 32,
   "metadata": {},
   "outputs": [],
   "source": [
    "assert df_imdb.gross.isnull().any()==False"
   ]
  },
  {
   "cell_type": "code",
   "execution_count": 33,
   "metadata": {},
   "outputs": [
    {
     "data": {
      "text/plain": [
       "<AxesSubplot:>"
      ]
     },
     "execution_count": 33,
     "metadata": {},
     "output_type": "execute_result"
    },
    {
     "data": {
      "image/png": "[encoded data removed]",
      "text/plain": [
       "<Figure size 432x288 with 1 Axes>"
      ]
     },
     "metadata": {
      "needs_background": "light"
     },
     "output_type": "display_data"
    }
   ],
   "source": [
    "df_imdb.gross.hist()"
   ]
  },
  {
   "cell_type": "markdown",
   "metadata": {},
   "source": [
    "### Columna `genres`\n"
   ]
  },
  {
   "cell_type": "code",
   "execution_count": 34,
   "metadata": {},
   "outputs": [
    {
     "data": {
      "text/plain": [
       "0             Biography|Comedy|Crime|Drama\n",
       "1                  Action|Adventure|Sci-Fi\n",
       "2     Crime|Drama|Mystery|Thriller|Western\n",
       "3                                    Drama\n",
       "4                        Adventure|Fantasy\n",
       "                      ...                 \n",
       "94                 Biography|Drama|History\n",
       "95                            Comedy|Drama\n",
       "96                Biography|Drama|Thriller\n",
       "97                        Action|Drama|War\n",
       "98           Biography|Drama|Music|Musical\n",
       "Name: genres, Length: 94, dtype: object"
      ]
     },
     "execution_count": 34,
     "metadata": {},
     "output_type": "execute_result"
    }
   ],
   "source": [
    "df_imdb.genres"
   ]
  },
  {
   "cell_type": "code",
   "execution_count": 35,
   "metadata": {},
   "outputs": [
    {
     "data": {
      "text/html": [
       "<div>\n",
       "<style scoped>\n",
       "    .dataframe tbody tr th:only-of-type {\n",
       "        vertical-align: middle;\n",
       "    }\n",
       "\n",
       "    .dataframe tbody tr th {\n",
       "        vertical-align: top;\n",
       "    }\n",
       "\n",
       "    .dataframe thead th {\n",
       "        text-align: right;\n",
       "    }\n",
       "</style>\n",
       "<table border=\"1\" class=\"dataframe\">\n",
       "  <thead>\n",
       "    <tr style=\"text-align: right;\">\n",
       "      <th></th>\n",
       "      <th>color</th>\n",
       "      <th>director_name</th>\n",
       "      <th>duration</th>\n",
       "      <th>gross</th>\n",
       "      <th>genres</th>\n",
       "      <th>movie_title</th>\n",
       "      <th>title_year</th>\n",
       "      <th>language</th>\n",
       "      <th>country</th>\n",
       "      <th>budget</th>\n",
       "      <th>imdb_score</th>\n",
       "      <th>actors</th>\n",
       "      <th>movie_facebook_likes</th>\n",
       "      <th>movie_twitter_likes</th>\n",
       "    </tr>\n",
       "  </thead>\n",
       "  <tbody>\n",
       "    <tr>\n",
       "      <th>12</th>\n",
       "      <td>Color</td>\n",
       "      <td>Christopher Spencer</td>\n",
       "      <td>170</td>\n",
       "      <td>59696176.0</td>\n",
       "      <td>NaN</td>\n",
       "      <td>son of god</td>\n",
       "      <td>2014</td>\n",
       "      <td>English</td>\n",
       "      <td>USA</td>\n",
       "      <td>USD 22,000,000.00</td>\n",
       "      <td>5.6</td>\n",
       "      <td>Roma Downey,Amber Rose Revah,Darwin Shaw</td>\n",
       "      <td>15000</td>\n",
       "      <td>1000</td>\n",
       "    </tr>\n",
       "  </tbody>\n",
       "</table>\n",
       "</div>"
      ],
      "text/plain": [
       "    color        director_name  duration       gross genres movie_title  \\\n",
       "12  Color  Christopher Spencer       170  59696176.0    NaN  son of god   \n",
       "\n",
       "    title_year language country             budget  imdb_score  \\\n",
       "12        2014  English     USA  USD 22,000,000.00         5.6   \n",
       "\n",
       "                                      actors  movie_facebook_likes  \\\n",
       "12  Roma Downey,Amber Rose Revah,Darwin Shaw                 15000   \n",
       "\n",
       "    movie_twitter_likes  \n",
       "12                 1000  "
      ]
     },
     "execution_count": 35,
     "metadata": {},
     "output_type": "execute_result"
    }
   ],
   "source": [
    "df_imdb[df_imdb.genres.isnull()]"
   ]
  },
  {
   "cell_type": "code",
   "execution_count": 36,
   "metadata": {},
   "outputs": [],
   "source": [
    "df_imdb.loc[df_imdb.genres.isnull(),'genres']='Drama|Sci-Fi'"
   ]
  },
  {
   "cell_type": "code",
   "execution_count": 37,
   "metadata": {},
   "outputs": [
    {
     "data": {
      "text/plain": [
       "5"
      ]
     },
     "execution_count": 37,
     "metadata": {},
     "output_type": "execute_result"
    }
   ],
   "source": [
    "df_imdb.genres.str.split('|').str.len().max()"
   ]
  },
  {
   "cell_type": "code",
   "execution_count": 38,
   "metadata": {},
   "outputs": [],
   "source": [
    "generos_cols=df_imdb.genres.str.split('|',n=5,expand=True)"
   ]
  },
  {
   "cell_type": "code",
   "execution_count": 39,
   "metadata": {},
   "outputs": [],
   "source": [
    "df_imdb['genero_1']=generos_cols[0]\n",
    "df_imdb['genero_2']=generos_cols[1]\n",
    "df_imdb['genero_3']=generos_cols[2]\n",
    "df_imdb['genero_4']=generos_cols[3]\n",
    "df_imdb['genero_5']=generos_cols[4]"
   ]
  },
  {
   "cell_type": "code",
   "execution_count": 40,
   "metadata": {},
   "outputs": [
    {
     "data": {
      "text/plain": [
       "<AxesSubplot:>"
      ]
     },
     "execution_count": 40,
     "metadata": {},
     "output_type": "execute_result"
    },
    {
     "data": {
      "image/png": "[encoded data removed]",
      "text/plain": [
       "<Figure size 432x288 with 1 Axes>"
      ]
     },
     "metadata": {
      "needs_background": "light"
     },
     "output_type": "display_data"
    }
   ],
   "source": [
    "df_imdb.genres.hist()"
   ]
  },
  {
   "cell_type": "code",
   "execution_count": 41,
   "metadata": {},
   "outputs": [],
   "source": [
    "df_imdb.drop('genres',axis=1,inplace=True)"
   ]
  },
  {
   "cell_type": "markdown",
   "metadata": {},
   "source": [
    "### Columna `budget`"
   ]
  },
  {
   "cell_type": "code",
   "execution_count": 42,
   "metadata": {},
   "outputs": [
    {
     "data": {
      "text/plain": [
       "0     USD 100,000,000.00\n",
       "1     USD 200,000,000.00\n",
       "2      USD 44,000,000.00\n",
       "3      USD 14,000,000.00\n",
       "4     USD 225,000,000.00\n",
       "             ...        \n",
       "94     USD 20,000,000.00\n",
       "95               USD nan\n",
       "96     USD 55,000,000.00\n",
       "97     USD 68,000,000.00\n",
       "98     USD 40,000,000.00\n",
       "Name: budget, Length: 94, dtype: object"
      ]
     },
     "execution_count": 42,
     "metadata": {},
     "output_type": "execute_result"
    }
   ],
   "source": [
    "df_imdb.budget"
   ]
  },
  {
   "cell_type": "code",
   "execution_count": 43,
   "metadata": {},
   "outputs": [],
   "source": [
    "df_imdb.budget=df_imdb.budget.str.replace('USD','',regex=False).str.replace(',','').astype('float')"
   ]
  },
  {
   "cell_type": "code",
   "execution_count": 44,
   "metadata": {},
   "outputs": [
    {
     "data": {
      "text/plain": [
       "4"
      ]
     },
     "execution_count": 44,
     "metadata": {},
     "output_type": "execute_result"
    }
   ],
   "source": [
    "df_imdb.budget.isnull().sum()"
   ]
  },
  {
   "cell_type": "code",
   "execution_count": 45,
   "metadata": {},
   "outputs": [
    {
     "data": {
      "text/plain": [
       "count    9.000000e+01\n",
       "mean     1.021824e+08\n",
       "std      7.742864e+07\n",
       "min      1.735000e+04\n",
       "25%      4.000000e+07\n",
       "50%      7.250000e+07\n",
       "75%      1.687500e+08\n",
       "max      2.500000e+08\n",
       "Name: budget, dtype: float64"
      ]
     },
     "execution_count": 45,
     "metadata": {},
     "output_type": "execute_result"
    }
   ],
   "source": [
    "df_imdb.budget.describe()"
   ]
  },
  {
   "cell_type": "code",
   "execution_count": 46,
   "metadata": {},
   "outputs": [],
   "source": [
    "df_imdb.loc[df_imdb.budget.isnull(),'budget']=df_imdb.budget.mean()"
   ]
  },
  {
   "cell_type": "code",
   "execution_count": 47,
   "metadata": {},
   "outputs": [
    {
     "data": {
      "text/plain": [
       "<AxesSubplot:xlabel='budget', ylabel='gross'>"
      ]
     },
     "execution_count": 47,
     "metadata": {},
     "output_type": "execute_result"
    },
    {
     "data": {
      "image/png": "[encoded data removed]",
      "text/plain": [
       "<Figure size 432x288 with 1 Axes>"
      ]
     },
     "metadata": {
      "needs_background": "light"
     },
     "output_type": "display_data"
    }
   ],
   "source": [
    "df_imdb.plot.scatter(x=\"budget\", y=\"gross\")\n"
   ]
  },
  {
   "cell_type": "markdown",
   "metadata": {},
   "source": [
    "### Columna `duration`"
   ]
  },
  {
   "cell_type": "code",
   "execution_count": 48,
   "metadata": {},
   "outputs": [
    {
     "data": {
      "text/plain": [
       "0     240\n",
       "1     195\n",
       "2     187\n",
       "3     186\n",
       "4     186\n",
       "     ... \n",
       "94    134\n",
       "95    134\n",
       "96    134\n",
       "97    134\n",
       "98      5\n",
       "Name: duration, Length: 94, dtype: int64"
      ]
     },
     "execution_count": 48,
     "metadata": {},
     "output_type": "execute_result"
    }
   ],
   "source": [
    "df_imdb.duration"
   ]
  },
  {
   "cell_type": "code",
   "execution_count": 49,
   "metadata": {},
   "outputs": [
    {
     "data": {
      "text/plain": [
       " 141    6\n",
       " 137    6\n",
       " 138    6\n",
       " 136    5\n",
       " 143    5\n",
       " 134    4\n",
       " 148    4\n",
       " 146    4\n",
       " 139    4\n",
       " 144    4\n",
       " 140    4\n",
       " 142    3\n",
       " 153    3\n",
       " 158    3\n",
       " 150    3\n",
       " 165    2\n",
       " 149    2\n",
       " 164    2\n",
       " 156    2\n",
       " 135    2\n",
       " 186    2\n",
       " 147    1\n",
       " 240    1\n",
       " 650    1\n",
       " 151    1\n",
       " 195    1\n",
       " 154    1\n",
       " 157    1\n",
       " 580    1\n",
       " 167    1\n",
       " 169    1\n",
       " 170    1\n",
       " 172    1\n",
       " 173    1\n",
       " 180    1\n",
       "-50     1\n",
       " 183    1\n",
       " 187    1\n",
       " 5      1\n",
       "Name: duration, dtype: int64"
      ]
     },
     "execution_count": 49,
     "metadata": {},
     "output_type": "execute_result"
    }
   ],
   "source": [
    "df_imdb.duration.value_counts(dropna=False)"
   ]
  },
  {
   "cell_type": "code",
   "execution_count": 50,
   "metadata": {},
   "outputs": [
    {
     "data": {
      "text/plain": [
       "count     94.000000\n",
       "mean     155.787234\n",
       "std       74.666840\n",
       "min      -50.000000\n",
       "25%      138.000000\n",
       "50%      143.500000\n",
       "75%      155.500000\n",
       "max      650.000000\n",
       "Name: duration, dtype: float64"
      ]
     },
     "execution_count": 50,
     "metadata": {},
     "output_type": "execute_result"
    }
   ],
   "source": [
    "df_imdb.duration.describe()"
   ]
  },
  {
   "cell_type": "code",
   "execution_count": 51,
   "metadata": {},
   "outputs": [
    {
     "data": {
      "text/plain": [
       "0"
      ]
     },
     "execution_count": 51,
     "metadata": {},
     "output_type": "execute_result"
    }
   ],
   "source": [
    "df_imdb.duration.isna().sum()"
   ]
  },
  {
   "cell_type": "code",
   "execution_count": 52,
   "metadata": {},
   "outputs": [
    {
     "data": {
      "text/plain": [
       "<AxesSubplot:>"
      ]
     },
     "execution_count": 52,
     "metadata": {},
     "output_type": "execute_result"
    },
    {
     "data": {
      "image/png": "[encoded data removed]",
      "text/plain": [
       "<Figure size 432x288 with 1 Axes>"
      ]
     },
     "metadata": {
      "needs_background": "light"
     },
     "output_type": "display_data"
    }
   ],
   "source": [
    "df_imdb.duration.hist()"
   ]
  },
  {
   "cell_type": "code",
   "execution_count": 53,
   "metadata": {},
   "outputs": [],
   "source": [
    "df_imdb.loc[(df_imdb.duration>400) | (df_imdb.duration<=5),'duration']=np.nan"
   ]
  },
  {
   "cell_type": "code",
   "execution_count": 54,
   "metadata": {},
   "outputs": [],
   "source": [
    "df_imdb.loc[df_imdb.duration.isnull(),'duration']=df_imdb.duration.median()"
   ]
  },
  {
   "cell_type": "code",
   "execution_count": 55,
   "metadata": {},
   "outputs": [
    {
     "data": {
      "text/plain": [
       "<AxesSubplot:>"
      ]
     },
     "execution_count": 55,
     "metadata": {},
     "output_type": "execute_result"
    },
    {
     "data": {
      "image/png": "[encoded data removed]",
      "text/plain": [
       "<Figure size 432x288 with 1 Axes>"
      ]
     },
     "metadata": {
      "needs_background": "light"
     },
     "output_type": "display_data"
    }
   ],
   "source": [
    "df_imdb.duration.hist()"
   ]
  },
  {
   "cell_type": "code",
   "execution_count": 137,
   "metadata": {},
   "outputs": [],
   "source": [
    "def identify_films(gross, rating):\n",
    "    if gross > 150_000_000 and rating < 6.5:\n",
    "        return \"High gross, low rating\"\n",
    "    if gross<80_000_000 and rating >8:\n",
    "        return \"Low gross, high rating\"\n",
    "    return 'Normal'"
   ]
  },
  {
   "cell_type": "code",
   "execution_count": 138,
   "metadata": {},
   "outputs": [],
   "source": [
    "df_imdb['type_film']=df_imdb.apply(lambda row:identify_films(row['gross'],row['imdb_score']),axis=1)"
   ]
  },
  {
   "cell_type": "markdown",
   "metadata": {},
   "source": [
    "## Guardar dataset"
   ]
  },
  {
   "cell_type": "code",
   "execution_count": 139,
   "metadata": {},
   "outputs": [],
   "source": [
    "df_imdb.to_csv('data/imdb_final.csv',sep=';',index=False)\n"
   ]
  },
  {
   "cell_type": "markdown",
   "metadata": {},
   "source": [
    "### Columna `movie_title`"
   ]
  },
  {
   "cell_type": "code",
   "execution_count": 56,
   "metadata": {},
   "outputs": [
    {
     "data": {
      "text/plain": [
       "unbroken                   2\n",
       "les misérables             2\n",
       "ben-hur                    2\n",
       "the wolf of wall street    1\n",
       "get on up                  1\n",
       "                          ..\n",
       "lincoln                    1\n",
       "exodus: gods and kings     1\n",
       "the martian                1\n",
       "the amazing spider-man     1\n",
       "jersey boys                1\n",
       "Name: movie_title, Length: 91, dtype: int64"
      ]
     },
     "execution_count": 56,
     "metadata": {},
     "output_type": "execute_result"
    }
   ],
   "source": [
    "df_imdb.movie_title.value_counts(dropna=False)"
   ]
  },
  {
   "cell_type": "code",
   "execution_count": 57,
   "metadata": {},
   "outputs": [],
   "source": [
    "df_imdb.drop_duplicates('movie_title',inplace=True)"
   ]
  },
  {
   "cell_type": "code",
   "execution_count": 58,
   "metadata": {},
   "outputs": [
    {
     "data": {
      "text/plain": [
       "(91, 18)"
      ]
     },
     "execution_count": 58,
     "metadata": {},
     "output_type": "execute_result"
    }
   ],
   "source": [
    "df_imdb.shape"
   ]
  },
  {
   "cell_type": "code",
   "execution_count": 59,
   "metadata": {},
   "outputs": [],
   "source": [
    "df_imdb.movie_title=df_imdb.movie_title.str.title()"
   ]
  },
  {
   "cell_type": "code",
   "execution_count": 60,
   "metadata": {},
   "outputs": [
    {
     "data": {
      "text/plain": [
       "0                 The Wolf Of Wall Street\n",
       "1                              Iron Man 3\n",
       "2                       The Hateful Eight\n",
       "3                                Margaret\n",
       "4     The Hobbit: The Desolation Of Smaug\n",
       "                     ...                 \n",
       "94                       12 Years A Slave\n",
       "95                       Barney'S Version\n",
       "96                       Captain Phillips\n",
       "97                                   Fury\n",
       "98                            Jersey Boys\n",
       "Name: movie_title, Length: 91, dtype: object"
      ]
     },
     "execution_count": 60,
     "metadata": {},
     "output_type": "execute_result"
    }
   ],
   "source": [
    "df_imdb.movie_title"
   ]
  },
  {
   "cell_type": "markdown",
   "metadata": {},
   "source": [
    "### Columna `title_year`"
   ]
  },
  {
   "cell_type": "code",
   "execution_count": 61,
   "metadata": {},
   "outputs": [
    {
     "data": {
      "text/plain": [
       " 2014    21\n",
       " 2012    18\n",
       " 2013    17\n",
       " 2011    10\n",
       " 2015     8\n",
       " 2010     7\n",
       " 2016     5\n",
       " 202      1\n",
       "-1000     1\n",
       " 2030     1\n",
       " 1800     1\n",
       " 205      1\n",
       "Name: title_year, dtype: int64"
      ]
     },
     "execution_count": 61,
     "metadata": {},
     "output_type": "execute_result"
    }
   ],
   "source": [
    "df_imdb.title_year.value_counts(dropna=False)"
   ]
  },
  {
   "cell_type": "code",
   "execution_count": 62,
   "metadata": {},
   "outputs": [
    {
     "data": {
      "text/html": [
       "<div>\n",
       "<style scoped>\n",
       "    .dataframe tbody tr th:only-of-type {\n",
       "        vertical-align: middle;\n",
       "    }\n",
       "\n",
       "    .dataframe tbody tr th {\n",
       "        vertical-align: top;\n",
       "    }\n",
       "\n",
       "    .dataframe thead th {\n",
       "        text-align: right;\n",
       "    }\n",
       "</style>\n",
       "<table border=\"1\" class=\"dataframe\">\n",
       "  <thead>\n",
       "    <tr style=\"text-align: right;\">\n",
       "      <th></th>\n",
       "      <th>color</th>\n",
       "      <th>director_name</th>\n",
       "      <th>duration</th>\n",
       "      <th>gross</th>\n",
       "      <th>movie_title</th>\n",
       "      <th>title_year</th>\n",
       "      <th>language</th>\n",
       "      <th>country</th>\n",
       "      <th>budget</th>\n",
       "      <th>imdb_score</th>\n",
       "      <th>actors</th>\n",
       "      <th>movie_facebook_likes</th>\n",
       "      <th>movie_twitter_likes</th>\n",
       "      <th>genero_1</th>\n",
       "      <th>genero_2</th>\n",
       "      <th>genero_3</th>\n",
       "      <th>genero_4</th>\n",
       "      <th>genero_5</th>\n",
       "    </tr>\n",
       "  </thead>\n",
       "  <tbody>\n",
       "    <tr>\n",
       "      <th>5</th>\n",
       "      <td>Color</td>\n",
       "      <td>No information available</td>\n",
       "      <td>183.0</td>\n",
       "      <td>330249062.0</td>\n",
       "      <td>Batman V Superman: Dawn Of Justice</td>\n",
       "      <td>202</td>\n",
       "      <td>English</td>\n",
       "      <td>USA</td>\n",
       "      <td>250000000.0</td>\n",
       "      <td>6.9</td>\n",
       "      <td>Henry Cavill,Lauren Cohan,Alan D. Purwin</td>\n",
       "      <td>197000</td>\n",
       "      <td>1000</td>\n",
       "      <td>Action</td>\n",
       "      <td>Adventure</td>\n",
       "      <td>Sci-Fi</td>\n",
       "      <td>None</td>\n",
       "      <td>None</td>\n",
       "    </tr>\n",
       "    <tr>\n",
       "      <th>20</th>\n",
       "      <td>Color</td>\n",
       "      <td>Tom Hooper</td>\n",
       "      <td>158.0</td>\n",
       "      <td>148775460.0</td>\n",
       "      <td>Les Misérables</td>\n",
       "      <td>-1000</td>\n",
       "      <td>English</td>\n",
       "      <td>USA</td>\n",
       "      <td>61000000.0</td>\n",
       "      <td>7.6</td>\n",
       "      <td>Hugh Jackman,Eddie Redmayne,Anne Hathaway</td>\n",
       "      <td>144000</td>\n",
       "      <td>1000</td>\n",
       "      <td>Drama</td>\n",
       "      <td>Musical</td>\n",
       "      <td>Romance</td>\n",
       "      <td>None</td>\n",
       "      <td>None</td>\n",
       "    </tr>\n",
       "    <tr>\n",
       "      <th>60</th>\n",
       "      <td>Color</td>\n",
       "      <td>Joss Whedon</td>\n",
       "      <td>141.0</td>\n",
       "      <td>458991599.0</td>\n",
       "      <td>Avengers: Age Of Ultron</td>\n",
       "      <td>2030</td>\n",
       "      <td>English</td>\n",
       "      <td>USA</td>\n",
       "      <td>250000000.0</td>\n",
       "      <td>7.5</td>\n",
       "      <td>Chris Hemsworth,Robert Downey Jr.,Scarlett Joh...</td>\n",
       "      <td>118000</td>\n",
       "      <td>1000</td>\n",
       "      <td>Action</td>\n",
       "      <td>Adventure</td>\n",
       "      <td>Sci-Fi</td>\n",
       "      <td>None</td>\n",
       "      <td>None</td>\n",
       "    </tr>\n",
       "    <tr>\n",
       "      <th>71</th>\n",
       "      <td>Color</td>\n",
       "      <td>No information available</td>\n",
       "      <td>139.0</td>\n",
       "      <td>150832203.0</td>\n",
       "      <td>Divergent</td>\n",
       "      <td>1800</td>\n",
       "      <td>English</td>\n",
       "      <td>USA</td>\n",
       "      <td>85000000.0</td>\n",
       "      <td>6.7</td>\n",
       "      <td>Kate Winslet,Theo James,Mekhi Phifer</td>\n",
       "      <td>49000</td>\n",
       "      <td>1000</td>\n",
       "      <td>Adventure</td>\n",
       "      <td>Mystery</td>\n",
       "      <td>Sci-Fi</td>\n",
       "      <td>None</td>\n",
       "      <td>None</td>\n",
       "    </tr>\n",
       "    <tr>\n",
       "      <th>81</th>\n",
       "      <td>Color</td>\n",
       "      <td>Daniel Espinosa</td>\n",
       "      <td>137.0</td>\n",
       "      <td>1206135.0</td>\n",
       "      <td>Child 44</td>\n",
       "      <td>205</td>\n",
       "      <td>English</td>\n",
       "      <td>Czech Republic</td>\n",
       "      <td>50000000.0</td>\n",
       "      <td>6.4</td>\n",
       "      <td>Tom Hardy,Fares Fares,Michael Nardone</td>\n",
       "      <td>18000</td>\n",
       "      <td>1000</td>\n",
       "      <td>Crime</td>\n",
       "      <td>Drama</td>\n",
       "      <td>Thriller</td>\n",
       "      <td>None</td>\n",
       "      <td>None</td>\n",
       "    </tr>\n",
       "  </tbody>\n",
       "</table>\n",
       "</div>"
      ],
      "text/plain": [
       "    color             director_name  duration        gross  \\\n",
       "5   Color  No information available     183.0  330249062.0   \n",
       "20  Color                Tom Hooper     158.0  148775460.0   \n",
       "60  Color               Joss Whedon     141.0  458991599.0   \n",
       "71  Color  No information available     139.0  150832203.0   \n",
       "81  Color           Daniel Espinosa     137.0    1206135.0   \n",
       "\n",
       "                           movie_title  title_year language         country  \\\n",
       "5   Batman V Superman: Dawn Of Justice         202  English             USA   \n",
       "20                      Les Misérables       -1000  English             USA   \n",
       "60             Avengers: Age Of Ultron        2030  English             USA   \n",
       "71                           Divergent        1800  English             USA   \n",
       "81                            Child 44         205  English  Czech Republic   \n",
       "\n",
       "         budget  imdb_score  \\\n",
       "5   250000000.0         6.9   \n",
       "20   61000000.0         7.6   \n",
       "60  250000000.0         7.5   \n",
       "71   85000000.0         6.7   \n",
       "81   50000000.0         6.4   \n",
       "\n",
       "                                               actors  movie_facebook_likes  \\\n",
       "5            Henry Cavill,Lauren Cohan,Alan D. Purwin                197000   \n",
       "20          Hugh Jackman,Eddie Redmayne,Anne Hathaway                144000   \n",
       "60  Chris Hemsworth,Robert Downey Jr.,Scarlett Joh...                118000   \n",
       "71               Kate Winslet,Theo James,Mekhi Phifer                 49000   \n",
       "81              Tom Hardy,Fares Fares,Michael Nardone                 18000   \n",
       "\n",
       "    movie_twitter_likes   genero_1   genero_2  genero_3 genero_4 genero_5  \n",
       "5                  1000     Action  Adventure    Sci-Fi     None     None  \n",
       "20                 1000      Drama    Musical   Romance     None     None  \n",
       "60                 1000     Action  Adventure    Sci-Fi     None     None  \n",
       "71                 1000  Adventure    Mystery    Sci-Fi     None     None  \n",
       "81                 1000      Crime      Drama  Thriller     None     None  "
      ]
     },
     "execution_count": 62,
     "metadata": {},
     "output_type": "execute_result"
    }
   ],
   "source": [
    "df_imdb[(df_imdb.title_year<=205) | (df_imdb.title_year==2030) | (df_imdb.title_year==1800) ]"
   ]
  },
  {
   "cell_type": "code",
   "execution_count": 63,
   "metadata": {},
   "outputs": [],
   "source": [
    "df_imdb.loc[df_imdb.title_year==202,'title_year']=2016"
   ]
  },
  {
   "cell_type": "code",
   "execution_count": 64,
   "metadata": {},
   "outputs": [],
   "source": [
    "df_imdb.loc[df_imdb.title_year==-1000,'title_year']=2012"
   ]
  },
  {
   "cell_type": "code",
   "execution_count": 65,
   "metadata": {},
   "outputs": [],
   "source": [
    "df_imdb.loc[df_imdb.title_year==2030,'title_year']=2015"
   ]
  },
  {
   "cell_type": "code",
   "execution_count": 66,
   "metadata": {},
   "outputs": [],
   "source": [
    "df_imdb.loc[df_imdb.title_year==205,'title_year']=2015"
   ]
  },
  {
   "cell_type": "code",
   "execution_count": 67,
   "metadata": {},
   "outputs": [],
   "source": [
    "df_imdb.loc[df_imdb.title_year==1800,'title_year']=2014"
   ]
  },
  {
   "cell_type": "code",
   "execution_count": 68,
   "metadata": {},
   "outputs": [
    {
     "data": {
      "text/plain": [
       "2014    22\n",
       "2012    19\n",
       "2013    17\n",
       "2015    10\n",
       "2011    10\n",
       "2010     7\n",
       "2016     6\n",
       "Name: title_year, dtype: int64"
      ]
     },
     "execution_count": 68,
     "metadata": {},
     "output_type": "execute_result"
    }
   ],
   "source": [
    "df_imdb.title_year.value_counts(dropna=False)"
   ]
  },
  {
   "cell_type": "markdown",
   "metadata": {},
   "source": [
    "### Columna `movie_twitter_likes`"
   ]
  },
  {
   "cell_type": "code",
   "execution_count": 69,
   "metadata": {},
   "outputs": [
    {
     "data": {
      "text/plain": [
       "1000    91\n",
       "Name: movie_twitter_likes, dtype: int64"
      ]
     },
     "execution_count": 69,
     "metadata": {},
     "output_type": "execute_result"
    }
   ],
   "source": [
    "df_imdb.movie_twitter_likes.value_counts(dropna=False)"
   ]
  },
  {
   "cell_type": "code",
   "execution_count": 70,
   "metadata": {},
   "outputs": [
    {
     "data": {
      "text/plain": [
       "count      91.0\n",
       "mean     1000.0\n",
       "std         0.0\n",
       "min      1000.0\n",
       "25%      1000.0\n",
       "50%      1000.0\n",
       "75%      1000.0\n",
       "max      1000.0\n",
       "Name: movie_twitter_likes, dtype: float64"
      ]
     },
     "execution_count": 70,
     "metadata": {},
     "output_type": "execute_result"
    }
   ],
   "source": [
    "df_imdb.movie_twitter_likes.describe()"
   ]
  },
  {
   "cell_type": "code",
   "execution_count": 71,
   "metadata": {},
   "outputs": [
    {
     "data": {
      "text/plain": [
       "<AxesSubplot:>"
      ]
     },
     "execution_count": 71,
     "metadata": {},
     "output_type": "execute_result"
    },
    {
     "data": {
      "image/png": "[encoded data removed]",
      "text/plain": [
       "<Figure size 432x288 with 1 Axes>"
      ]
     },
     "metadata": {
      "needs_background": "light"
     },
     "output_type": "display_data"
    }
   ],
   "source": [
    "df_imdb.movie_twitter_likes.hist()"
   ]
  },
  {
   "cell_type": "code",
   "execution_count": 72,
   "metadata": {},
   "outputs": [],
   "source": [
    "df_imdb.drop('movie_twitter_likes',axis=1,inplace=True)"
   ]
  },
  {
   "cell_type": "code",
   "execution_count": 73,
   "metadata": {},
   "outputs": [
    {
     "data": {
      "text/html": [
       "<div>\n",
       "<style scoped>\n",
       "    .dataframe tbody tr th:only-of-type {\n",
       "        vertical-align: middle;\n",
       "    }\n",
       "\n",
       "    .dataframe tbody tr th {\n",
       "        vertical-align: top;\n",
       "    }\n",
       "\n",
       "    .dataframe thead th {\n",
       "        text-align: right;\n",
       "    }\n",
       "</style>\n",
       "<table border=\"1\" class=\"dataframe\">\n",
       "  <thead>\n",
       "    <tr style=\"text-align: right;\">\n",
       "      <th></th>\n",
       "      <th>color</th>\n",
       "      <th>director_name</th>\n",
       "      <th>duration</th>\n",
       "      <th>gross</th>\n",
       "      <th>movie_title</th>\n",
       "      <th>title_year</th>\n",
       "      <th>language</th>\n",
       "      <th>country</th>\n",
       "      <th>budget</th>\n",
       "      <th>imdb_score</th>\n",
       "      <th>actors</th>\n",
       "      <th>movie_facebook_likes</th>\n",
       "      <th>genero_1</th>\n",
       "      <th>genero_2</th>\n",
       "      <th>genero_3</th>\n",
       "      <th>genero_4</th>\n",
       "      <th>genero_5</th>\n",
       "    </tr>\n",
       "  </thead>\n",
       "  <tbody>\n",
       "    <tr>\n",
       "      <th>0</th>\n",
       "      <td>Color</td>\n",
       "      <td>Martin Scorsese</td>\n",
       "      <td>240.0</td>\n",
       "      <td>116866727.0</td>\n",
       "      <td>The Wolf Of Wall Street</td>\n",
       "      <td>2013</td>\n",
       "      <td>English</td>\n",
       "      <td>USA</td>\n",
       "      <td>100000000.0</td>\n",
       "      <td>8.2</td>\n",
       "      <td>Leonardo DiCaprio,Matthew McConaughey,Jon Favreau</td>\n",
       "      <td>138000</td>\n",
       "      <td>Biography</td>\n",
       "      <td>Comedy</td>\n",
       "      <td>Crime</td>\n",
       "      <td>Drama</td>\n",
       "      <td>None</td>\n",
       "    </tr>\n",
       "    <tr>\n",
       "      <th>1</th>\n",
       "      <td>Color</td>\n",
       "      <td>Shane Black</td>\n",
       "      <td>195.0</td>\n",
       "      <td>408992272.0</td>\n",
       "      <td>Iron Man 3</td>\n",
       "      <td>2013</td>\n",
       "      <td>English</td>\n",
       "      <td>USA</td>\n",
       "      <td>200000000.0</td>\n",
       "      <td>7.2</td>\n",
       "      <td>Robert Downey Jr.,Jon Favreau,Don Cheadle</td>\n",
       "      <td>95000</td>\n",
       "      <td>Action</td>\n",
       "      <td>Adventure</td>\n",
       "      <td>Sci-Fi</td>\n",
       "      <td>None</td>\n",
       "      <td>None</td>\n",
       "    </tr>\n",
       "    <tr>\n",
       "      <th>2</th>\n",
       "      <td>Color</td>\n",
       "      <td>Quentin Tarantino</td>\n",
       "      <td>187.0</td>\n",
       "      <td>54116191.0</td>\n",
       "      <td>The Hateful Eight</td>\n",
       "      <td>2015</td>\n",
       "      <td>English</td>\n",
       "      <td>USA</td>\n",
       "      <td>44000000.0</td>\n",
       "      <td>7.9</td>\n",
       "      <td>Craig Stark,Jennifer Jason Leigh,Zoë Bell</td>\n",
       "      <td>114000</td>\n",
       "      <td>Crime</td>\n",
       "      <td>Drama</td>\n",
       "      <td>Mystery</td>\n",
       "      <td>Thriller</td>\n",
       "      <td>Western</td>\n",
       "    </tr>\n",
       "    <tr>\n",
       "      <th>3</th>\n",
       "      <td>Color</td>\n",
       "      <td>Kenneth Lonergan</td>\n",
       "      <td>186.0</td>\n",
       "      <td>46495.0</td>\n",
       "      <td>Margaret</td>\n",
       "      <td>2011</td>\n",
       "      <td>English</td>\n",
       "      <td>usa</td>\n",
       "      <td>14000000.0</td>\n",
       "      <td>6.5</td>\n",
       "      <td>Matt Damon,Kieran Culkin,John Gallagher Jr.</td>\n",
       "      <td>0</td>\n",
       "      <td>Drama</td>\n",
       "      <td>None</td>\n",
       "      <td>None</td>\n",
       "      <td>None</td>\n",
       "      <td>None</td>\n",
       "    </tr>\n",
       "    <tr>\n",
       "      <th>4</th>\n",
       "      <td>Color</td>\n",
       "      <td>Peter Jackson</td>\n",
       "      <td>186.0</td>\n",
       "      <td>258355354.0</td>\n",
       "      <td>The Hobbit: The Desolation Of Smaug</td>\n",
       "      <td>2013</td>\n",
       "      <td>English</td>\n",
       "      <td>USA</td>\n",
       "      <td>225000000.0</td>\n",
       "      <td>7.9</td>\n",
       "      <td>Aidan Turner,Adam Brown,James Nesbitt</td>\n",
       "      <td>83000</td>\n",
       "      <td>Adventure</td>\n",
       "      <td>Fantasy</td>\n",
       "      <td>None</td>\n",
       "      <td>None</td>\n",
       "      <td>None</td>\n",
       "    </tr>\n",
       "    <tr>\n",
       "      <th>...</th>\n",
       "      <td>...</td>\n",
       "      <td>...</td>\n",
       "      <td>...</td>\n",
       "      <td>...</td>\n",
       "      <td>...</td>\n",
       "      <td>...</td>\n",
       "      <td>...</td>\n",
       "      <td>...</td>\n",
       "      <td>...</td>\n",
       "      <td>...</td>\n",
       "      <td>...</td>\n",
       "      <td>...</td>\n",
       "      <td>...</td>\n",
       "      <td>...</td>\n",
       "      <td>...</td>\n",
       "      <td>...</td>\n",
       "      <td>...</td>\n",
       "    </tr>\n",
       "    <tr>\n",
       "      <th>94</th>\n",
       "      <td>Color</td>\n",
       "      <td>Steve McQueen</td>\n",
       "      <td>134.0</td>\n",
       "      <td>56667870.0</td>\n",
       "      <td>12 Years A Slave</td>\n",
       "      <td>2013</td>\n",
       "      <td>English</td>\n",
       "      <td>USA</td>\n",
       "      <td>20000000.0</td>\n",
       "      <td>8.1</td>\n",
       "      <td>Quvenzhané Wallis,Scoot McNairy,Taran Killam</td>\n",
       "      <td>83000</td>\n",
       "      <td>Biography</td>\n",
       "      <td>Drama</td>\n",
       "      <td>History</td>\n",
       "      <td>None</td>\n",
       "      <td>None</td>\n",
       "    </tr>\n",
       "    <tr>\n",
       "      <th>95</th>\n",
       "      <td>Color</td>\n",
       "      <td>Richard J. Lewis</td>\n",
       "      <td>134.0</td>\n",
       "      <td>7501404.0</td>\n",
       "      <td>Barney'S Version</td>\n",
       "      <td>2010</td>\n",
       "      <td>English</td>\n",
       "      <td>Canada</td>\n",
       "      <td>102182415.0</td>\n",
       "      <td>7.3</td>\n",
       "      <td>Mark Addy,Atom Egoyan,Paul Gross</td>\n",
       "      <td>0</td>\n",
       "      <td>Comedy</td>\n",
       "      <td>Drama</td>\n",
       "      <td>None</td>\n",
       "      <td>None</td>\n",
       "      <td>None</td>\n",
       "    </tr>\n",
       "    <tr>\n",
       "      <th>96</th>\n",
       "      <td>Color</td>\n",
       "      <td>Paul Greengrass</td>\n",
       "      <td>134.0</td>\n",
       "      <td>107100855.0</td>\n",
       "      <td>Captain Phillips</td>\n",
       "      <td>2013</td>\n",
       "      <td>English</td>\n",
       "      <td>USA</td>\n",
       "      <td>55000000.0</td>\n",
       "      <td>7.9</td>\n",
       "      <td>Tom Hanks,Chris Mulkey,Michael Chernus</td>\n",
       "      <td>65000</td>\n",
       "      <td>Biography</td>\n",
       "      <td>Drama</td>\n",
       "      <td>Thriller</td>\n",
       "      <td>None</td>\n",
       "      <td>None</td>\n",
       "    </tr>\n",
       "    <tr>\n",
       "      <th>97</th>\n",
       "      <td>Color</td>\n",
       "      <td>David Ayer</td>\n",
       "      <td>134.0</td>\n",
       "      <td>85707116.0</td>\n",
       "      <td>Fury</td>\n",
       "      <td>2014</td>\n",
       "      <td>English</td>\n",
       "      <td>USA</td>\n",
       "      <td>68000000.0</td>\n",
       "      <td>7.6</td>\n",
       "      <td>Brad Pitt,Logan Lerman,Jim Parrack</td>\n",
       "      <td>82000</td>\n",
       "      <td>Action</td>\n",
       "      <td>Drama</td>\n",
       "      <td>War</td>\n",
       "      <td>None</td>\n",
       "      <td>None</td>\n",
       "    </tr>\n",
       "    <tr>\n",
       "      <th>98</th>\n",
       "      <td>Color</td>\n",
       "      <td>Clint Eastwood</td>\n",
       "      <td>143.5</td>\n",
       "      <td>47034272.0</td>\n",
       "      <td>Jersey Boys</td>\n",
       "      <td>2014</td>\n",
       "      <td>English</td>\n",
       "      <td>USA</td>\n",
       "      <td>40000000.0</td>\n",
       "      <td>6.9</td>\n",
       "      <td>Johnny Cannizzaro,Steve Schirripa,Scott Vance</td>\n",
       "      <td>16000</td>\n",
       "      <td>Biography</td>\n",
       "      <td>Drama</td>\n",
       "      <td>Music</td>\n",
       "      <td>Musical</td>\n",
       "      <td>None</td>\n",
       "    </tr>\n",
       "  </tbody>\n",
       "</table>\n",
       "<p>91 rows × 17 columns</p>\n",
       "</div>"
      ],
      "text/plain": [
       "    color      director_name  duration        gross  \\\n",
       "0   Color    Martin Scorsese     240.0  116866727.0   \n",
       "1   Color        Shane Black     195.0  408992272.0   \n",
       "2   Color  Quentin Tarantino     187.0   54116191.0   \n",
       "3   Color   Kenneth Lonergan     186.0      46495.0   \n",
       "4   Color      Peter Jackson     186.0  258355354.0   \n",
       "..    ...                ...       ...          ...   \n",
       "94  Color      Steve McQueen     134.0   56667870.0   \n",
       "95  Color   Richard J. Lewis     134.0    7501404.0   \n",
       "96  Color    Paul Greengrass     134.0  107100855.0   \n",
       "97  Color         David Ayer     134.0   85707116.0   \n",
       "98  Color     Clint Eastwood     143.5   47034272.0   \n",
       "\n",
       "                            movie_title  title_year language country  \\\n",
       "0               The Wolf Of Wall Street        2013  English     USA   \n",
       "1                            Iron Man 3        2013  English     USA   \n",
       "2                     The Hateful Eight        2015  English     USA   \n",
       "3                              Margaret        2011  English     usa   \n",
       "4   The Hobbit: The Desolation Of Smaug        2013  English     USA   \n",
       "..                                  ...         ...      ...     ...   \n",
       "94                     12 Years A Slave        2013  English     USA   \n",
       "95                     Barney'S Version        2010  English  Canada   \n",
       "96                     Captain Phillips        2013  English     USA   \n",
       "97                                 Fury        2014  English     USA   \n",
       "98                          Jersey Boys        2014  English     USA   \n",
       "\n",
       "         budget  imdb_score  \\\n",
       "0   100000000.0         8.2   \n",
       "1   200000000.0         7.2   \n",
       "2    44000000.0         7.9   \n",
       "3    14000000.0         6.5   \n",
       "4   225000000.0         7.9   \n",
       "..          ...         ...   \n",
       "94   20000000.0         8.1   \n",
       "95  102182415.0         7.3   \n",
       "96   55000000.0         7.9   \n",
       "97   68000000.0         7.6   \n",
       "98   40000000.0         6.9   \n",
       "\n",
       "                                               actors  movie_facebook_likes  \\\n",
       "0   Leonardo DiCaprio,Matthew McConaughey,Jon Favreau                138000   \n",
       "1           Robert Downey Jr.,Jon Favreau,Don Cheadle                 95000   \n",
       "2           Craig Stark,Jennifer Jason Leigh,Zoë Bell                114000   \n",
       "3         Matt Damon,Kieran Culkin,John Gallagher Jr.                     0   \n",
       "4               Aidan Turner,Adam Brown,James Nesbitt                 83000   \n",
       "..                                                ...                   ...   \n",
       "94       Quvenzhané Wallis,Scoot McNairy,Taran Killam                 83000   \n",
       "95                   Mark Addy,Atom Egoyan,Paul Gross                     0   \n",
       "96             Tom Hanks,Chris Mulkey,Michael Chernus                 65000   \n",
       "97                 Brad Pitt,Logan Lerman,Jim Parrack                 82000   \n",
       "98      Johnny Cannizzaro,Steve Schirripa,Scott Vance                 16000   \n",
       "\n",
       "     genero_1   genero_2  genero_3  genero_4 genero_5  \n",
       "0   Biography     Comedy     Crime     Drama     None  \n",
       "1      Action  Adventure    Sci-Fi      None     None  \n",
       "2       Crime      Drama   Mystery  Thriller  Western  \n",
       "3       Drama       None      None      None     None  \n",
       "4   Adventure    Fantasy      None      None     None  \n",
       "..        ...        ...       ...       ...      ...  \n",
       "94  Biography      Drama   History      None     None  \n",
       "95     Comedy      Drama      None      None     None  \n",
       "96  Biography      Drama  Thriller      None     None  \n",
       "97     Action      Drama       War      None     None  \n",
       "98  Biography      Drama     Music   Musical     None  \n",
       "\n",
       "[91 rows x 17 columns]"
      ]
     },
     "execution_count": 73,
     "metadata": {},
     "output_type": "execute_result"
    }
   ],
   "source": [
    "df_imdb\n"
   ]
  },
  {
   "cell_type": "markdown",
   "metadata": {},
   "source": [
    "### Columna `imdb_score`"
   ]
  },
  {
   "cell_type": "code",
   "execution_count": 74,
   "metadata": {},
   "outputs": [
    {
     "data": {
      "text/plain": [
       " 6.7    9\n",
       " 8.1    8\n",
       " 7.3    7\n",
       " 7.9    5\n",
       " 7.2    5\n",
       " 7.6    4\n",
       " 6.5    4\n",
       " 6.1    4\n",
       " 7.4    4\n",
       " 8.2    3\n",
       " 6.3    3\n",
       " 7.8    3\n",
       " 6.9    3\n",
       " 8.5    2\n",
       " 7.5    2\n",
       " 8.0    2\n",
       " 7.0    2\n",
       " 6.6    2\n",
       " 6.8    2\n",
       " 5.7    2\n",
       " 7.1    2\n",
       " 5.8    1\n",
       " 5.9    1\n",
       "-1.2    1\n",
       " 6.4    1\n",
       " 5.3    1\n",
       " 8.8    1\n",
       " 3.0    1\n",
       " 4.3    1\n",
       " 8.4    1\n",
       "-7.5    1\n",
       " 5.6    1\n",
       " 8.6    1\n",
       " 8.7    1\n",
       "Name: imdb_score, dtype: int64"
      ]
     },
     "execution_count": 74,
     "metadata": {},
     "output_type": "execute_result"
    }
   ],
   "source": [
    "df_imdb.imdb_score.value_counts(dropna=False)"
   ]
  },
  {
   "cell_type": "code",
   "execution_count": 75,
   "metadata": {},
   "outputs": [
    {
     "data": {
      "text/plain": [
       "count    91.000000\n",
       "mean      6.881319\n",
       "std       1.995100\n",
       "min      -7.500000\n",
       "25%       6.600000\n",
       "50%       7.200000\n",
       "75%       7.900000\n",
       "max       8.800000\n",
       "Name: imdb_score, dtype: float64"
      ]
     },
     "execution_count": 75,
     "metadata": {},
     "output_type": "execute_result"
    }
   ],
   "source": [
    "df_imdb.imdb_score.describe()"
   ]
  },
  {
   "cell_type": "code",
   "execution_count": 76,
   "metadata": {},
   "outputs": [
    {
     "data": {
      "text/plain": [
       "<AxesSubplot:>"
      ]
     },
     "execution_count": 76,
     "metadata": {},
     "output_type": "execute_result"
    },
    {
     "data": {
      "image/png": "[encoded data removed]",
      "text/plain": [
       "<Figure size 432x288 with 1 Axes>"
      ]
     },
     "metadata": {
      "needs_background": "light"
     },
     "output_type": "display_data"
    }
   ],
   "source": [
    "df_imdb.imdb_score.hist()"
   ]
  },
  {
   "cell_type": "code",
   "execution_count": 77,
   "metadata": {},
   "outputs": [],
   "source": [
    "df_imdb.loc[df_imdb.imdb_score<0,'imdb_score']=np.nan"
   ]
  },
  {
   "cell_type": "code",
   "execution_count": 78,
   "metadata": {},
   "outputs": [],
   "source": [
    "df_imdb.loc[df_imdb.imdb_score.isnull(),'imdb_score']=np.round(df_imdb.imdb_score.mean(),1)"
   ]
  },
  {
   "cell_type": "code",
   "execution_count": 79,
   "metadata": {},
   "outputs": [
    {
     "data": {
      "text/plain": [
       "<AxesSubplot:>"
      ]
     },
     "execution_count": 79,
     "metadata": {},
     "output_type": "execute_result"
    },
    {
     "data": {
      "image/png": "[encoded data removed]",
      "text/plain": [
       "<Figure size 432x288 with 1 Axes>"
      ]
     },
     "metadata": {
      "needs_background": "light"
     },
     "output_type": "display_data"
    }
   ],
   "source": [
    "df_imdb.imdb_score.hist()"
   ]
  },
  {
   "cell_type": "markdown",
   "metadata": {},
   "source": [
    "### Columna `country`"
   ]
  },
  {
   "cell_type": "code",
   "execution_count": 80,
   "metadata": {},
   "outputs": [
    {
     "data": {
      "text/plain": [
       "USA               72\n",
       "UK                 6\n",
       "usa                3\n",
       "France             2\n",
       "Germany            1\n",
       "New Zealand        1\n",
       "India              1\n",
       "United States      1\n",
       "Australia          1\n",
       "Czech Republic     1\n",
       "Kyrgyzstan         1\n",
       "Canada             1\n",
       "Name: country, dtype: int64"
      ]
     },
     "execution_count": 80,
     "metadata": {},
     "output_type": "execute_result"
    }
   ],
   "source": [
    "df_imdb.country.value_counts(dropna=False)"
   ]
  },
  {
   "cell_type": "code",
   "execution_count": 81,
   "metadata": {},
   "outputs": [],
   "source": [
    "df_imdb.loc[(df_imdb.country.str.strip()=='usa') | (df_imdb.country.str.strip()=='United States'),'country']='USA'"
   ]
  },
  {
   "cell_type": "code",
   "execution_count": 82,
   "metadata": {},
   "outputs": [
    {
     "data": {
      "text/plain": [
       "USA               76\n",
       "UK                 6\n",
       "France             2\n",
       "Germany            1\n",
       "New Zealand        1\n",
       "India              1\n",
       "Australia          1\n",
       "Czech Republic     1\n",
       "Kyrgyzstan         1\n",
       "Canada             1\n",
       "Name: country, dtype: int64"
      ]
     },
     "execution_count": 82,
     "metadata": {},
     "output_type": "execute_result"
    }
   ],
   "source": [
    "df_imdb.country.value_counts(dropna=False)"
   ]
  },
  {
   "cell_type": "markdown",
   "metadata": {},
   "source": [
    "### Columna `language`"
   ]
  },
  {
   "cell_type": "code",
   "execution_count": 83,
   "metadata": {},
   "outputs": [
    {
     "data": {
      "text/plain": [
       "English    91\n",
       "Name: language, dtype: int64"
      ]
     },
     "execution_count": 83,
     "metadata": {},
     "output_type": "execute_result"
    }
   ],
   "source": [
    "df_imdb.language.value_counts(dropna=False)"
   ]
  },
  {
   "cell_type": "code",
   "execution_count": 84,
   "metadata": {},
   "outputs": [
    {
     "data": {
      "text/plain": [
       "count          91\n",
       "unique          1\n",
       "top       English\n",
       "freq           91\n",
       "Name: language, dtype: object"
      ]
     },
     "execution_count": 84,
     "metadata": {},
     "output_type": "execute_result"
    }
   ],
   "source": [
    "df_imdb.language.describe()"
   ]
  },
  {
   "cell_type": "code",
   "execution_count": 85,
   "metadata": {},
   "outputs": [],
   "source": [
    "df_imdb.loc[df_imdb.country=='France','language']='French'\n",
    "df_imdb.loc[df_imdb.country=='Germany','language']='German'\n",
    "df_imdb.loc[df_imdb.country=='Czech Republic','language']='Czech'\n",
    "df_imdb.loc[df_imdb.country=='Kyrgyzstan','language']='Kyrgyz'"
   ]
  },
  {
   "cell_type": "code",
   "execution_count": 86,
   "metadata": {},
   "outputs": [
    {
     "data": {
      "text/plain": [
       "English    86\n",
       "French      2\n",
       "German      1\n",
       "Czech       1\n",
       "Kyrgyz      1\n",
       "Name: language, dtype: int64"
      ]
     },
     "execution_count": 86,
     "metadata": {},
     "output_type": "execute_result"
    }
   ],
   "source": [
    "df_imdb.language.value_counts(dropna=False)"
   ]
  },
  {
   "cell_type": "markdown",
   "metadata": {},
   "source": [
    "### Columna `movie_facebook_likes`"
   ]
  },
  {
   "cell_type": "code",
   "execution_count": 87,
   "metadata": {},
   "outputs": [
    {
     "data": {
      "text/plain": [
       "0         7\n",
       "82000     3\n",
       "24000     2\n",
       "47000     2\n",
       "39000     2\n",
       "         ..\n",
       "146000    1\n",
       "5000      1\n",
       "95000     1\n",
       "85000     1\n",
       "31000     1\n",
       "Name: movie_facebook_likes, Length: 67, dtype: int64"
      ]
     },
     "execution_count": 87,
     "metadata": {},
     "output_type": "execute_result"
    }
   ],
   "source": [
    "df_imdb.movie_facebook_likes.value_counts(dropna=False)"
   ]
  },
  {
   "cell_type": "code",
   "execution_count": 88,
   "metadata": {},
   "outputs": [
    {
     "data": {
      "text/plain": [
       "count        91.000000\n",
       "mean      65829.945055\n",
       "std       58602.262111\n",
       "min           0.000000\n",
       "25%       25000.000000\n",
       "50%       54000.000000\n",
       "75%       84000.000000\n",
       "max      349000.000000\n",
       "Name: movie_facebook_likes, dtype: float64"
      ]
     },
     "execution_count": 88,
     "metadata": {},
     "output_type": "execute_result"
    }
   ],
   "source": [
    "df_imdb.movie_facebook_likes.describe()"
   ]
  },
  {
   "cell_type": "code",
   "execution_count": 118,
   "metadata": {},
   "outputs": [
    {
     "data": {
      "text/plain": [
       "95         0\n",
       "92         0\n",
       "3          0\n",
       "42         0\n",
       "47         0\n",
       "       ...  \n",
       "38    175000\n",
       "24    190000\n",
       "5     197000\n",
       "16    199000\n",
       "13    349000\n",
       "Name: movie_facebook_likes, Length: 91, dtype: int64"
      ]
     },
     "execution_count": 118,
     "metadata": {},
     "output_type": "execute_result"
    }
   ],
   "source": [
    "df_imdb.movie_facebook_likes.sort_values()"
   ]
  },
  {
   "cell_type": "code",
   "execution_count": 89,
   "metadata": {},
   "outputs": [
    {
     "data": {
      "text/plain": [
       "<AxesSubplot:>"
      ]
     },
     "execution_count": 89,
     "metadata": {},
     "output_type": "execute_result"
    },
    {
     "data": {
      "image/png": "[encoded data removed]",
      "text/plain": [
       "<Figure size 432x288 with 1 Axes>"
      ]
     },
     "metadata": {
      "needs_background": "light"
     },
     "output_type": "display_data"
    }
   ],
   "source": [
    "df_imdb.movie_facebook_likes.hist(bins=20)"
   ]
  },
  {
   "cell_type": "code",
   "execution_count": 90,
   "metadata": {},
   "outputs": [],
   "source": [
    "df_imdb.loc[df_imdb.movie_facebook_likes>3e5,'movie_facebook_likes']=np.nan"
   ]
  },
  {
   "cell_type": "code",
   "execution_count": 91,
   "metadata": {},
   "outputs": [],
   "source": [
    "df_imdb.loc[df_imdb.movie_facebook_likes.isnull(),'movie_facebook_likes']=df_imdb.movie_facebook_likes.median()"
   ]
  },
  {
   "cell_type": "markdown",
   "metadata": {},
   "source": [
    "### Columna `actors`"
   ]
  },
  {
   "cell_type": "code",
   "execution_count": 92,
   "metadata": {},
   "outputs": [
    {
     "data": {
      "text/plain": [
       "Aidan Turner,Adam Brown,James Nesbitt                   3\n",
       "Chris Hemsworth,Robert Downey Jr.,Scarlett Johansson    2\n",
       "Leonardo DiCaprio,Matthew McConaughey,Jon Favreau       1\n",
       "Robert Downey Jr.,Robert Duvall,Leighton Meester        1\n",
       "Brad Pitt,Tye Sheridan,Fiona Shaw                       1\n",
       "                                                       ..\n",
       "Johnny Depp,Ruth Wilson,Tom Wilkinson                   1\n",
       "Lesley Manville,Ruth Sheen,Karl Johnson                 1\n",
       "Joseph Gordon-Levitt,Hal Holbrook,Bruce McGill          1\n",
       "Christian Bale,María Valverde,Ben Mendelsohn            1\n",
       "Johnny Cannizzaro,Steve Schirripa,Scott Vance           1\n",
       "Name: actors, Length: 88, dtype: int64"
      ]
     },
     "execution_count": 92,
     "metadata": {},
     "output_type": "execute_result"
    }
   ],
   "source": [
    "df_imdb.actors.value_counts(dropna=False)"
   ]
  },
  {
   "cell_type": "code",
   "execution_count": 93,
   "metadata": {},
   "outputs": [
    {
     "data": {
      "text/plain": [
       "0"
      ]
     },
     "execution_count": 93,
     "metadata": {},
     "output_type": "execute_result"
    }
   ],
   "source": [
    "df_imdb.actors.isnull().sum()"
   ]
  },
  {
   "cell_type": "code",
   "execution_count": 94,
   "metadata": {},
   "outputs": [
    {
     "data": {
      "text/plain": [
       "3"
      ]
     },
     "execution_count": 94,
     "metadata": {},
     "output_type": "execute_result"
    }
   ],
   "source": [
    "df_imdb.actors.str.split(',').str.len().max()"
   ]
  },
  {
   "cell_type": "code",
   "execution_count": 95,
   "metadata": {},
   "outputs": [],
   "source": [
    "col_actors=df_imdb.actors.str.split(',',n=3,expand=True)"
   ]
  },
  {
   "cell_type": "code",
   "execution_count": 96,
   "metadata": {},
   "outputs": [],
   "source": [
    "df_imdb['actor_0']=col_actors[0]\n",
    "df_imdb['actor_1']=col_actors[1]\n",
    "df_imdb['actor_2']=col_actors[2]"
   ]
  },
  {
   "cell_type": "code",
   "execution_count": 97,
   "metadata": {},
   "outputs": [
    {
     "data": {
      "text/html": [
       "<div>\n",
       "<style scoped>\n",
       "    .dataframe tbody tr th:only-of-type {\n",
       "        vertical-align: middle;\n",
       "    }\n",
       "\n",
       "    .dataframe tbody tr th {\n",
       "        vertical-align: top;\n",
       "    }\n",
       "\n",
       "    .dataframe thead th {\n",
       "        text-align: right;\n",
       "    }\n",
       "</style>\n",
       "<table border=\"1\" class=\"dataframe\">\n",
       "  <thead>\n",
       "    <tr style=\"text-align: right;\">\n",
       "      <th></th>\n",
       "      <th>color</th>\n",
       "      <th>director_name</th>\n",
       "      <th>duration</th>\n",
       "      <th>gross</th>\n",
       "      <th>movie_title</th>\n",
       "      <th>title_year</th>\n",
       "      <th>language</th>\n",
       "      <th>country</th>\n",
       "      <th>budget</th>\n",
       "      <th>imdb_score</th>\n",
       "      <th>actors</th>\n",
       "      <th>movie_facebook_likes</th>\n",
       "      <th>genero_1</th>\n",
       "      <th>genero_2</th>\n",
       "      <th>genero_3</th>\n",
       "      <th>genero_4</th>\n",
       "      <th>genero_5</th>\n",
       "      <th>actor_0</th>\n",
       "      <th>actor_1</th>\n",
       "      <th>actor_2</th>\n",
       "    </tr>\n",
       "  </thead>\n",
       "  <tbody>\n",
       "    <tr>\n",
       "      <th>0</th>\n",
       "      <td>Color</td>\n",
       "      <td>Martin Scorsese</td>\n",
       "      <td>240.0</td>\n",
       "      <td>116866727.0</td>\n",
       "      <td>The Wolf Of Wall Street</td>\n",
       "      <td>2013</td>\n",
       "      <td>English</td>\n",
       "      <td>USA</td>\n",
       "      <td>100000000.0</td>\n",
       "      <td>8.2</td>\n",
       "      <td>Leonardo DiCaprio,Matthew McConaughey,Jon Favreau</td>\n",
       "      <td>138000.0</td>\n",
       "      <td>Biography</td>\n",
       "      <td>Comedy</td>\n",
       "      <td>Crime</td>\n",
       "      <td>Drama</td>\n",
       "      <td>None</td>\n",
       "      <td>Leonardo DiCaprio</td>\n",
       "      <td>Matthew McConaughey</td>\n",
       "      <td>Jon Favreau</td>\n",
       "    </tr>\n",
       "    <tr>\n",
       "      <th>1</th>\n",
       "      <td>Color</td>\n",
       "      <td>Shane Black</td>\n",
       "      <td>195.0</td>\n",
       "      <td>408992272.0</td>\n",
       "      <td>Iron Man 3</td>\n",
       "      <td>2013</td>\n",
       "      <td>English</td>\n",
       "      <td>USA</td>\n",
       "      <td>200000000.0</td>\n",
       "      <td>7.2</td>\n",
       "      <td>Robert Downey Jr.,Jon Favreau,Don Cheadle</td>\n",
       "      <td>95000.0</td>\n",
       "      <td>Action</td>\n",
       "      <td>Adventure</td>\n",
       "      <td>Sci-Fi</td>\n",
       "      <td>None</td>\n",
       "      <td>None</td>\n",
       "      <td>Robert Downey Jr.</td>\n",
       "      <td>Jon Favreau</td>\n",
       "      <td>Don Cheadle</td>\n",
       "    </tr>\n",
       "    <tr>\n",
       "      <th>2</th>\n",
       "      <td>Color</td>\n",
       "      <td>Quentin Tarantino</td>\n",
       "      <td>187.0</td>\n",
       "      <td>54116191.0</td>\n",
       "      <td>The Hateful Eight</td>\n",
       "      <td>2015</td>\n",
       "      <td>English</td>\n",
       "      <td>USA</td>\n",
       "      <td>44000000.0</td>\n",
       "      <td>7.9</td>\n",
       "      <td>Craig Stark,Jennifer Jason Leigh,Zoë Bell</td>\n",
       "      <td>114000.0</td>\n",
       "      <td>Crime</td>\n",
       "      <td>Drama</td>\n",
       "      <td>Mystery</td>\n",
       "      <td>Thriller</td>\n",
       "      <td>Western</td>\n",
       "      <td>Craig Stark</td>\n",
       "      <td>Jennifer Jason Leigh</td>\n",
       "      <td>Zoë Bell</td>\n",
       "    </tr>\n",
       "    <tr>\n",
       "      <th>3</th>\n",
       "      <td>Color</td>\n",
       "      <td>Kenneth Lonergan</td>\n",
       "      <td>186.0</td>\n",
       "      <td>46495.0</td>\n",
       "      <td>Margaret</td>\n",
       "      <td>2011</td>\n",
       "      <td>English</td>\n",
       "      <td>USA</td>\n",
       "      <td>14000000.0</td>\n",
       "      <td>6.5</td>\n",
       "      <td>Matt Damon,Kieran Culkin,John Gallagher Jr.</td>\n",
       "      <td>0.0</td>\n",
       "      <td>Drama</td>\n",
       "      <td>None</td>\n",
       "      <td>None</td>\n",
       "      <td>None</td>\n",
       "      <td>None</td>\n",
       "      <td>Matt Damon</td>\n",
       "      <td>Kieran Culkin</td>\n",
       "      <td>John Gallagher Jr.</td>\n",
       "    </tr>\n",
       "    <tr>\n",
       "      <th>4</th>\n",
       "      <td>Color</td>\n",
       "      <td>Peter Jackson</td>\n",
       "      <td>186.0</td>\n",
       "      <td>258355354.0</td>\n",
       "      <td>The Hobbit: The Desolation Of Smaug</td>\n",
       "      <td>2013</td>\n",
       "      <td>English</td>\n",
       "      <td>USA</td>\n",
       "      <td>225000000.0</td>\n",
       "      <td>7.9</td>\n",
       "      <td>Aidan Turner,Adam Brown,James Nesbitt</td>\n",
       "      <td>83000.0</td>\n",
       "      <td>Adventure</td>\n",
       "      <td>Fantasy</td>\n",
       "      <td>None</td>\n",
       "      <td>None</td>\n",
       "      <td>None</td>\n",
       "      <td>Aidan Turner</td>\n",
       "      <td>Adam Brown</td>\n",
       "      <td>James Nesbitt</td>\n",
       "    </tr>\n",
       "    <tr>\n",
       "      <th>...</th>\n",
       "      <td>...</td>\n",
       "      <td>...</td>\n",
       "      <td>...</td>\n",
       "      <td>...</td>\n",
       "      <td>...</td>\n",
       "      <td>...</td>\n",
       "      <td>...</td>\n",
       "      <td>...</td>\n",
       "      <td>...</td>\n",
       "      <td>...</td>\n",
       "      <td>...</td>\n",
       "      <td>...</td>\n",
       "      <td>...</td>\n",
       "      <td>...</td>\n",
       "      <td>...</td>\n",
       "      <td>...</td>\n",
       "      <td>...</td>\n",
       "      <td>...</td>\n",
       "      <td>...</td>\n",
       "      <td>...</td>\n",
       "    </tr>\n",
       "    <tr>\n",
       "      <th>94</th>\n",
       "      <td>Color</td>\n",
       "      <td>Steve McQueen</td>\n",
       "      <td>134.0</td>\n",
       "      <td>56667870.0</td>\n",
       "      <td>12 Years A Slave</td>\n",
       "      <td>2013</td>\n",
       "      <td>English</td>\n",
       "      <td>USA</td>\n",
       "      <td>20000000.0</td>\n",
       "      <td>8.1</td>\n",
       "      <td>Quvenzhané Wallis,Scoot McNairy,Taran Killam</td>\n",
       "      <td>83000.0</td>\n",
       "      <td>Biography</td>\n",
       "      <td>Drama</td>\n",
       "      <td>History</td>\n",
       "      <td>None</td>\n",
       "      <td>None</td>\n",
       "      <td>Quvenzhané Wallis</td>\n",
       "      <td>Scoot McNairy</td>\n",
       "      <td>Taran Killam</td>\n",
       "    </tr>\n",
       "    <tr>\n",
       "      <th>95</th>\n",
       "      <td>Color</td>\n",
       "      <td>Richard J. Lewis</td>\n",
       "      <td>134.0</td>\n",
       "      <td>7501404.0</td>\n",
       "      <td>Barney'S Version</td>\n",
       "      <td>2010</td>\n",
       "      <td>English</td>\n",
       "      <td>Canada</td>\n",
       "      <td>102182415.0</td>\n",
       "      <td>7.3</td>\n",
       "      <td>Mark Addy,Atom Egoyan,Paul Gross</td>\n",
       "      <td>0.0</td>\n",
       "      <td>Comedy</td>\n",
       "      <td>Drama</td>\n",
       "      <td>None</td>\n",
       "      <td>None</td>\n",
       "      <td>None</td>\n",
       "      <td>Mark Addy</td>\n",
       "      <td>Atom Egoyan</td>\n",
       "      <td>Paul Gross</td>\n",
       "    </tr>\n",
       "    <tr>\n",
       "      <th>96</th>\n",
       "      <td>Color</td>\n",
       "      <td>Paul Greengrass</td>\n",
       "      <td>134.0</td>\n",
       "      <td>107100855.0</td>\n",
       "      <td>Captain Phillips</td>\n",
       "      <td>2013</td>\n",
       "      <td>English</td>\n",
       "      <td>USA</td>\n",
       "      <td>55000000.0</td>\n",
       "      <td>7.9</td>\n",
       "      <td>Tom Hanks,Chris Mulkey,Michael Chernus</td>\n",
       "      <td>65000.0</td>\n",
       "      <td>Biography</td>\n",
       "      <td>Drama</td>\n",
       "      <td>Thriller</td>\n",
       "      <td>None</td>\n",
       "      <td>None</td>\n",
       "      <td>Tom Hanks</td>\n",
       "      <td>Chris Mulkey</td>\n",
       "      <td>Michael Chernus</td>\n",
       "    </tr>\n",
       "    <tr>\n",
       "      <th>97</th>\n",
       "      <td>Color</td>\n",
       "      <td>David Ayer</td>\n",
       "      <td>134.0</td>\n",
       "      <td>85707116.0</td>\n",
       "      <td>Fury</td>\n",
       "      <td>2014</td>\n",
       "      <td>English</td>\n",
       "      <td>USA</td>\n",
       "      <td>68000000.0</td>\n",
       "      <td>7.6</td>\n",
       "      <td>Brad Pitt,Logan Lerman,Jim Parrack</td>\n",
       "      <td>82000.0</td>\n",
       "      <td>Action</td>\n",
       "      <td>Drama</td>\n",
       "      <td>War</td>\n",
       "      <td>None</td>\n",
       "      <td>None</td>\n",
       "      <td>Brad Pitt</td>\n",
       "      <td>Logan Lerman</td>\n",
       "      <td>Jim Parrack</td>\n",
       "    </tr>\n",
       "    <tr>\n",
       "      <th>98</th>\n",
       "      <td>Color</td>\n",
       "      <td>Clint Eastwood</td>\n",
       "      <td>143.5</td>\n",
       "      <td>47034272.0</td>\n",
       "      <td>Jersey Boys</td>\n",
       "      <td>2014</td>\n",
       "      <td>English</td>\n",
       "      <td>USA</td>\n",
       "      <td>40000000.0</td>\n",
       "      <td>6.9</td>\n",
       "      <td>Johnny Cannizzaro,Steve Schirripa,Scott Vance</td>\n",
       "      <td>16000.0</td>\n",
       "      <td>Biography</td>\n",
       "      <td>Drama</td>\n",
       "      <td>Music</td>\n",
       "      <td>Musical</td>\n",
       "      <td>None</td>\n",
       "      <td>Johnny Cannizzaro</td>\n",
       "      <td>Steve Schirripa</td>\n",
       "      <td>Scott Vance</td>\n",
       "    </tr>\n",
       "  </tbody>\n",
       "</table>\n",
       "<p>91 rows × 20 columns</p>\n",
       "</div>"
      ],
      "text/plain": [
       "    color      director_name  duration        gross  \\\n",
       "0   Color    Martin Scorsese     240.0  116866727.0   \n",
       "1   Color        Shane Black     195.0  408992272.0   \n",
       "2   Color  Quentin Tarantino     187.0   54116191.0   \n",
       "3   Color   Kenneth Lonergan     186.0      46495.0   \n",
       "4   Color      Peter Jackson     186.0  258355354.0   \n",
       "..    ...                ...       ...          ...   \n",
       "94  Color      Steve McQueen     134.0   56667870.0   \n",
       "95  Color   Richard J. Lewis     134.0    7501404.0   \n",
       "96  Color    Paul Greengrass     134.0  107100855.0   \n",
       "97  Color         David Ayer     134.0   85707116.0   \n",
       "98  Color     Clint Eastwood     143.5   47034272.0   \n",
       "\n",
       "                            movie_title  title_year language country  \\\n",
       "0               The Wolf Of Wall Street        2013  English     USA   \n",
       "1                            Iron Man 3        2013  English     USA   \n",
       "2                     The Hateful Eight        2015  English     USA   \n",
       "3                              Margaret        2011  English     USA   \n",
       "4   The Hobbit: The Desolation Of Smaug        2013  English     USA   \n",
       "..                                  ...         ...      ...     ...   \n",
       "94                     12 Years A Slave        2013  English     USA   \n",
       "95                     Barney'S Version        2010  English  Canada   \n",
       "96                     Captain Phillips        2013  English     USA   \n",
       "97                                 Fury        2014  English     USA   \n",
       "98                          Jersey Boys        2014  English     USA   \n",
       "\n",
       "         budget  imdb_score  \\\n",
       "0   100000000.0         8.2   \n",
       "1   200000000.0         7.2   \n",
       "2    44000000.0         7.9   \n",
       "3    14000000.0         6.5   \n",
       "4   225000000.0         7.9   \n",
       "..          ...         ...   \n",
       "94   20000000.0         8.1   \n",
       "95  102182415.0         7.3   \n",
       "96   55000000.0         7.9   \n",
       "97   68000000.0         7.6   \n",
       "98   40000000.0         6.9   \n",
       "\n",
       "                                               actors  movie_facebook_likes  \\\n",
       "0   Leonardo DiCaprio,Matthew McConaughey,Jon Favreau              138000.0   \n",
       "1           Robert Downey Jr.,Jon Favreau,Don Cheadle               95000.0   \n",
       "2           Craig Stark,Jennifer Jason Leigh,Zoë Bell              114000.0   \n",
       "3         Matt Damon,Kieran Culkin,John Gallagher Jr.                   0.0   \n",
       "4               Aidan Turner,Adam Brown,James Nesbitt               83000.0   \n",
       "..                                                ...                   ...   \n",
       "94       Quvenzhané Wallis,Scoot McNairy,Taran Killam               83000.0   \n",
       "95                   Mark Addy,Atom Egoyan,Paul Gross                   0.0   \n",
       "96             Tom Hanks,Chris Mulkey,Michael Chernus               65000.0   \n",
       "97                 Brad Pitt,Logan Lerman,Jim Parrack               82000.0   \n",
       "98      Johnny Cannizzaro,Steve Schirripa,Scott Vance               16000.0   \n",
       "\n",
       "     genero_1   genero_2  genero_3  genero_4 genero_5            actor_0  \\\n",
       "0   Biography     Comedy     Crime     Drama     None  Leonardo DiCaprio   \n",
       "1      Action  Adventure    Sci-Fi      None     None  Robert Downey Jr.   \n",
       "2       Crime      Drama   Mystery  Thriller  Western        Craig Stark   \n",
       "3       Drama       None      None      None     None         Matt Damon   \n",
       "4   Adventure    Fantasy      None      None     None       Aidan Turner   \n",
       "..        ...        ...       ...       ...      ...                ...   \n",
       "94  Biography      Drama   History      None     None  Quvenzhané Wallis   \n",
       "95     Comedy      Drama      None      None     None          Mark Addy   \n",
       "96  Biography      Drama  Thriller      None     None          Tom Hanks   \n",
       "97     Action      Drama       War      None     None          Brad Pitt   \n",
       "98  Biography      Drama     Music   Musical     None  Johnny Cannizzaro   \n",
       "\n",
       "                 actor_1             actor_2  \n",
       "0    Matthew McConaughey         Jon Favreau  \n",
       "1            Jon Favreau         Don Cheadle  \n",
       "2   Jennifer Jason Leigh            Zoë Bell  \n",
       "3          Kieran Culkin  John Gallagher Jr.  \n",
       "4             Adam Brown       James Nesbitt  \n",
       "..                   ...                 ...  \n",
       "94         Scoot McNairy        Taran Killam  \n",
       "95           Atom Egoyan          Paul Gross  \n",
       "96          Chris Mulkey     Michael Chernus  \n",
       "97          Logan Lerman         Jim Parrack  \n",
       "98       Steve Schirripa         Scott Vance  \n",
       "\n",
       "[91 rows x 20 columns]"
      ]
     },
     "execution_count": 97,
     "metadata": {},
     "output_type": "execute_result"
    }
   ],
   "source": [
    "df_imdb"
   ]
  },
  {
   "cell_type": "code",
   "execution_count": 98,
   "metadata": {},
   "outputs": [],
   "source": [
    "df_imdb.drop('actors',axis=1,inplace=True)"
   ]
  },
  {
   "cell_type": "markdown",
   "metadata": {},
   "source": [
    "## GENEROS MÁS REPETIDOS"
   ]
  },
  {
   "cell_type": "code",
   "execution_count": 116,
   "metadata": {},
   "outputs": [
    {
     "data": {
      "text/plain": [
       "Drama        59\n",
       "Adventure    35\n",
       "Action       30\n",
       "Thriller     28\n",
       "Sci-Fi       23\n",
       "Crime        17\n",
       "Biography    14\n",
       "History      12\n",
       "Fantasy       9\n",
       "Romance       7\n",
       "Mystery       7\n",
       "Comedy        7\n",
       "War           6\n",
       "Western       5\n",
       "Musical       3\n",
       "Music         3\n",
       "Sport         2\n",
       "Animation     1\n",
       "Horror        1\n",
       "dtype: int64"
      ]
     },
     "execution_count": 116,
     "metadata": {},
     "output_type": "execute_result"
    }
   ],
   "source": [
    "pd.concat([df_imdb.genero_1,df_imdb.genero_2,df_imdb.genero_3,df_imdb.genero_4,df_imdb.genero_5],axis=0).value_counts()"
   ]
  },
  {
   "cell_type": "markdown",
   "metadata": {},
   "source": [
    "## ACTORES MÁS REPETIDOS"
   ]
  },
  {
   "cell_type": "code",
   "execution_count": 117,
   "metadata": {},
   "outputs": [
    {
     "data": {
      "text/plain": [
       "Leonardo DiCaprio     7\n",
       "Jennifer Lawrence     6\n",
       "Tom Hardy             5\n",
       "Robert Downey Jr.     5\n",
       "Scarlett Johansson    4\n",
       "                     ..\n",
       "Ruth Wilson           1\n",
       "Sela Ward             1\n",
       "Peter Dinklage        1\n",
       "Mark Valley           1\n",
       "Scott Vance           1\n",
       "Length: 209, dtype: int64"
      ]
     },
     "execution_count": 117,
     "metadata": {},
     "output_type": "execute_result"
    }
   ],
   "source": [
    "pd.concat([df_imdb.actor_0,df_imdb.actor_1,df_imdb.actor_2]).value_counts()"
   ]
  },
  {
   "cell_type": "code",
   "execution_count": 110,
   "metadata": {},
   "outputs": [],
   "source": [
    "pd.set_option(\"display.max_rows\",100)"
   ]
  },
  {
   "cell_type": "code",
   "execution_count": null,
   "metadata": {},
   "outputs": [],
   "source": []
  }
 ],
 "metadata": {
  "interpreter": {
   "hash": "5f23c331dcc0e959a18d97d72b32723b8e8fefc4a029dc171226f15b89161c30"
  },
  "kernelspec": {
   "display_name": "Python 3.8.8 64-bit ('nuclio': conda)",
   "language": "python",
   "name": "python3"
  },
  "language_info": {
   "codemirror_mode": {
    "name": "ipython",
    "version": 3
   },
   "file_extension": ".py",
   "mimetype": "text/x-python",
   "name": "python",
   "nbconvert_exporter": "python",
   "pygments_lexer": "ipython3",
   "version": "3.9.7"
  },
  "metadata": {
   "interpreter": {
    "hash": "47c7c997e12db0943f037ebbbbd3e237f559f651ec857a3093f1bc2fc6c9f54a"
   }
  }
 },
 "nbformat": 4,
 "nbformat_minor": 2
}
